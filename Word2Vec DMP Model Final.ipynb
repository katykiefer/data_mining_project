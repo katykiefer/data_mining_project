{
 "cells": [
  {
   "cell_type": "markdown",
   "metadata": {},
   "source": [
    "## Set working directory"
   ]
  },
  {
   "cell_type": "code",
   "execution_count": 2,
   "metadata": {},
   "outputs": [
    {
     "data": {
      "text/plain": [
       "'/mnt/c/Users/jessi/OneDrive/Desktop'"
      ]
     },
     "execution_count": 2,
     "metadata": {},
     "output_type": "execute_result"
    }
   ],
   "source": [
    "import os\n",
    "os.getcwd()"
   ]
  },
  {
   "cell_type": "code",
   "execution_count": 3,
   "metadata": {},
   "outputs": [],
   "source": [
    "os.chdir('/mnt/c/Users/jessi/OneDrive/Desktop')"
   ]
  },
  {
   "cell_type": "code",
   "execution_count": 4,
   "metadata": {},
   "outputs": [
    {
     "data": {
      "text/plain": [
       "'/mnt/c/Users/jessi/OneDrive/Desktop'"
      ]
     },
     "execution_count": 4,
     "metadata": {},
     "output_type": "execute_result"
    }
   ],
   "source": [
    "os.getcwd()"
   ]
  },
  {
   "cell_type": "markdown",
   "metadata": {},
   "source": [
    "## Read in and prepare data"
   ]
  },
  {
   "cell_type": "code",
   "execution_count": 5,
   "metadata": {},
   "outputs": [],
   "source": [
    "# Import the libraries to be used\n",
    "import pandas as pd\n",
    "import gensim\n",
    "import numpy as np\n",
    "import xgboost as xgb\n",
    "import warnings\n",
    "warnings.filterwarnings('ignore')"
   ]
  },
  {
   "cell_type": "code",
   "execution_count": 6,
   "metadata": {},
   "outputs": [],
   "source": [
    "# Read in the datasets we will be using. \n",
    "prior_orders = pd.read_csv('Instacart Data/order_products__prior.csv')\n",
    "products = pd.read_csv('Instacart Data/products.csv')"
   ]
  },
  {
   "cell_type": "code",
   "execution_count": 7,
   "metadata": {},
   "outputs": [
    {
     "data": {
      "text/html": [
       "<div>\n",
       "<style scoped>\n",
       "    .dataframe tbody tr th:only-of-type {\n",
       "        vertical-align: middle;\n",
       "    }\n",
       "\n",
       "    .dataframe tbody tr th {\n",
       "        vertical-align: top;\n",
       "    }\n",
       "\n",
       "    .dataframe thead th {\n",
       "        text-align: right;\n",
       "    }\n",
       "</style>\n",
       "<table border=\"1\" class=\"dataframe\">\n",
       "  <thead>\n",
       "    <tr style=\"text-align: right;\">\n",
       "      <th></th>\n",
       "      <th>order_id</th>\n",
       "      <th>product_id</th>\n",
       "      <th>add_to_cart_order</th>\n",
       "      <th>reordered</th>\n",
       "    </tr>\n",
       "  </thead>\n",
       "  <tbody>\n",
       "    <tr>\n",
       "      <th>0</th>\n",
       "      <td>2</td>\n",
       "      <td>33120</td>\n",
       "      <td>1</td>\n",
       "      <td>1</td>\n",
       "    </tr>\n",
       "    <tr>\n",
       "      <th>1</th>\n",
       "      <td>2</td>\n",
       "      <td>28985</td>\n",
       "      <td>2</td>\n",
       "      <td>1</td>\n",
       "    </tr>\n",
       "    <tr>\n",
       "      <th>2</th>\n",
       "      <td>2</td>\n",
       "      <td>9327</td>\n",
       "      <td>3</td>\n",
       "      <td>0</td>\n",
       "    </tr>\n",
       "    <tr>\n",
       "      <th>3</th>\n",
       "      <td>2</td>\n",
       "      <td>45918</td>\n",
       "      <td>4</td>\n",
       "      <td>1</td>\n",
       "    </tr>\n",
       "    <tr>\n",
       "      <th>4</th>\n",
       "      <td>2</td>\n",
       "      <td>30035</td>\n",
       "      <td>5</td>\n",
       "      <td>0</td>\n",
       "    </tr>\n",
       "  </tbody>\n",
       "</table>\n",
       "</div>"
      ],
      "text/plain": [
       "   order_id  product_id  add_to_cart_order  reordered\n",
       "0         2       33120                  1          1\n",
       "1         2       28985                  2          1\n",
       "2         2        9327                  3          0\n",
       "3         2       45918                  4          1\n",
       "4         2       30035                  5          0"
      ]
     },
     "execution_count": 7,
     "metadata": {},
     "output_type": "execute_result"
    }
   ],
   "source": [
    "prior_orders.head()"
   ]
  },
  {
   "cell_type": "code",
   "execution_count": 8,
   "metadata": {},
   "outputs": [
    {
     "data": {
      "text/plain": [
       "order_id             0\n",
       "product_id           0\n",
       "add_to_cart_order    0\n",
       "reordered            0\n",
       "dtype: int64"
      ]
     },
     "execution_count": 8,
     "metadata": {},
     "output_type": "execute_result"
    }
   ],
   "source": [
    "#check for missing values, noting none.\n",
    "prior_orders.isnull().sum()"
   ]
  },
  {
   "cell_type": "code",
   "execution_count": 9,
   "metadata": {},
   "outputs": [],
   "source": [
    "# Split the dataset into train and test sets (80/20) split, based on order_id.\n",
    "from sklearn.model_selection import GroupShuffleSplit\n",
    "train_set, test_set = next(GroupShuffleSplit(test_size=.20, n_splits=2, random_state = 47).split(prior_orders, groups=prior_orders['order_id']))\n",
    "\n",
    "train = prior_orders.iloc[train_set]\n",
    "test = prior_orders.iloc[test_set]"
   ]
  },
  {
   "cell_type": "code",
   "execution_count": 9,
   "metadata": {},
   "outputs": [],
   "source": [
    "# Because we will be training our model on product_id, we will be converting the column to string.\n",
    "train[\"product_id\"] = train[\"product_id\"].astype(str) "
   ]
  },
  {
   "cell_type": "code",
   "execution_count": 10,
   "metadata": {},
   "outputs": [],
   "source": [
    "#Obtain sentences, where a sentence is the list of all product_ids per order.\n",
    "sentences = train.groupby(\"order_id\")['product_id'].apply(list)"
   ]
  },
  {
   "cell_type": "code",
   "execution_count": 11,
   "metadata": {},
   "outputs": [],
   "source": [
    "#Save the longest sentest length. This will be used in training our model.\n",
    "longest = np.max(sentences.apply(len))"
   ]
  },
  {
   "cell_type": "code",
   "execution_count": 12,
   "metadata": {},
   "outputs": [],
   "source": [
    "# Convert our sentences to an array.\n",
    "sentences = np.array(sentences)"
   ]
  },
  {
   "cell_type": "markdown",
   "metadata": {},
   "source": [
    "## Train the word2vec model"
   ]
  },
  {
   "cell_type": "markdown",
   "metadata": {},
   "source": [
    "NOTE: in order to be able to reproduce a trained model, the model must be limited to a single worker thread (workers = 1), as per the gensim documentation. However, running even the base model with workers = 1 was taking far too long that it was not feasible. If the below models are rerun, they will likely result in different results.\n",
    "\n",
    "Source: https://radimrehurek.com/gensim/models/word2vec.html"
   ]
  },
  {
   "cell_type": "code",
   "execution_count": null,
   "metadata": {},
   "outputs": [],
   "source": [
    "# Train the base model skip-gram. We're using the longest sentence (defined above) as the window size and choosing to ignore no words (setting min_count at 0) to capture as many words as possible for when running this model with the train_order dataset below.\n",
    "# sg = 1: 1 for skip-gram\n",
    "# hs = 0: if 1, hierarchial softmax used\n",
    "# ns_exponent = 0: samples all words equally\n",
    "# iter = 5: default, number of iterations over the corpus\n",
    "\n",
    "#model_base_split = gensim.models.Word2Vec(sentences, sg=1, size=100, window=longest, min_count=0, hs=0, ns_exponent=0, iter=5, workers=4)\n",
    "#model_base_split.save('/mnt/c/Users/jessi/OneDrive/Desktop/model_base_split')"
   ]
  },
  {
   "cell_type": "markdown",
   "metadata": {},
   "source": [
    "The calculation in a Word2Vec model is intensive, as each iteration sums over all words in the vocabulary. Negative sampling is a way to lessen this; instead of predicting the probability of words being nearby, we predict the probability if the words are nearby neighbors or not. To see if this improves our recommendations, we train a model with negative sampling: model_ns10_split.\n",
    "\n",
    "Source: https://towardsdatascience.com/nlp-101-negative-sampling-and-glove-936c88f3bc68"
   ]
  },
  {
   "cell_type": "code",
   "execution_count": null,
   "metadata": {},
   "outputs": [],
   "source": [
    "# Train the model with negative sampling of 10.\n",
    "#model_ns10_split = gensim.models.Word2Vec(sentences, sg=1, size=100, window=longest, min_count=0, hs=0, ns_exponent=0, negative = 10, iter=5, workers=4)\n",
    "#model_ns10_split.save('/mnt/c/Users/jessi/OneDrive/Desktop/model_ns10_split')"
   ]
  },
  {
   "cell_type": "markdown",
   "metadata": {},
   "source": [
    "Another parameter we can manipulate is vector size, so we train a model to output feature vectors of size 200, instead of size 100. This model is below: model_s200_split."
   ]
  },
  {
   "cell_type": "code",
   "execution_count": null,
   "metadata": {},
   "outputs": [],
   "source": [
    "# Train the model with vector size of 200.\n",
    "#model_s200_split = gensim.models.Word2Vec(sentences, sg=1, size=200, window=longest, min_count=0, hs=0, ns_exponent=0, iter=5, workers=4)\n",
    "#model_s200_split.save('/mnt/c/Users/jessi/OneDrive/Desktop/model_s200_split')"
   ]
  },
  {
   "cell_type": "markdown",
   "metadata": {},
   "source": [
    "## Create the dictionary of product_ids and product_names."
   ]
  },
  {
   "cell_type": "code",
   "execution_count": 10,
   "metadata": {},
   "outputs": [],
   "source": [
    "# We want to create a dictionary to be able to look up what each product_id is. To start, we merge merge prior_orders and products to have product_id and product_name in one dataframe.\n",
    "prior_orders = pd.read_csv('Instacart Data/order_products__prior.csv')\n",
    "prior_orders_merge = pd.merge(prior_orders, products, on=\"product_id\")"
   ]
  },
  {
   "cell_type": "code",
   "execution_count": 11,
   "metadata": {},
   "outputs": [
    {
     "data": {
      "text/html": [
       "<div>\n",
       "<style scoped>\n",
       "    .dataframe tbody tr th:only-of-type {\n",
       "        vertical-align: middle;\n",
       "    }\n",
       "\n",
       "    .dataframe tbody tr th {\n",
       "        vertical-align: top;\n",
       "    }\n",
       "\n",
       "    .dataframe thead th {\n",
       "        text-align: right;\n",
       "    }\n",
       "</style>\n",
       "<table border=\"1\" class=\"dataframe\">\n",
       "  <thead>\n",
       "    <tr style=\"text-align: right;\">\n",
       "      <th></th>\n",
       "      <th>order_id</th>\n",
       "      <th>product_id</th>\n",
       "      <th>add_to_cart_order</th>\n",
       "      <th>reordered</th>\n",
       "      <th>product_name</th>\n",
       "      <th>aisle_id</th>\n",
       "      <th>department_id</th>\n",
       "    </tr>\n",
       "  </thead>\n",
       "  <tbody>\n",
       "    <tr>\n",
       "      <th>0</th>\n",
       "      <td>2</td>\n",
       "      <td>33120</td>\n",
       "      <td>1</td>\n",
       "      <td>1</td>\n",
       "      <td>Organic Egg Whites</td>\n",
       "      <td>86</td>\n",
       "      <td>16</td>\n",
       "    </tr>\n",
       "    <tr>\n",
       "      <th>1</th>\n",
       "      <td>26</td>\n",
       "      <td>33120</td>\n",
       "      <td>5</td>\n",
       "      <td>0</td>\n",
       "      <td>Organic Egg Whites</td>\n",
       "      <td>86</td>\n",
       "      <td>16</td>\n",
       "    </tr>\n",
       "    <tr>\n",
       "      <th>2</th>\n",
       "      <td>120</td>\n",
       "      <td>33120</td>\n",
       "      <td>13</td>\n",
       "      <td>0</td>\n",
       "      <td>Organic Egg Whites</td>\n",
       "      <td>86</td>\n",
       "      <td>16</td>\n",
       "    </tr>\n",
       "    <tr>\n",
       "      <th>3</th>\n",
       "      <td>327</td>\n",
       "      <td>33120</td>\n",
       "      <td>5</td>\n",
       "      <td>1</td>\n",
       "      <td>Organic Egg Whites</td>\n",
       "      <td>86</td>\n",
       "      <td>16</td>\n",
       "    </tr>\n",
       "    <tr>\n",
       "      <th>4</th>\n",
       "      <td>390</td>\n",
       "      <td>33120</td>\n",
       "      <td>28</td>\n",
       "      <td>1</td>\n",
       "      <td>Organic Egg Whites</td>\n",
       "      <td>86</td>\n",
       "      <td>16</td>\n",
       "    </tr>\n",
       "    <tr>\n",
       "      <th>...</th>\n",
       "      <td>...</td>\n",
       "      <td>...</td>\n",
       "      <td>...</td>\n",
       "      <td>...</td>\n",
       "      <td>...</td>\n",
       "      <td>...</td>\n",
       "      <td>...</td>\n",
       "    </tr>\n",
       "    <tr>\n",
       "      <th>32434484</th>\n",
       "      <td>3265099</td>\n",
       "      <td>43492</td>\n",
       "      <td>3</td>\n",
       "      <td>0</td>\n",
       "      <td>Gourmet Burger Seasoning</td>\n",
       "      <td>104</td>\n",
       "      <td>13</td>\n",
       "    </tr>\n",
       "    <tr>\n",
       "      <th>32434485</th>\n",
       "      <td>3361945</td>\n",
       "      <td>43492</td>\n",
       "      <td>19</td>\n",
       "      <td>0</td>\n",
       "      <td>Gourmet Burger Seasoning</td>\n",
       "      <td>104</td>\n",
       "      <td>13</td>\n",
       "    </tr>\n",
       "    <tr>\n",
       "      <th>32434486</th>\n",
       "      <td>3267201</td>\n",
       "      <td>33097</td>\n",
       "      <td>2</td>\n",
       "      <td>0</td>\n",
       "      <td>Piquillo &amp; Jalapeno Bruschetta</td>\n",
       "      <td>81</td>\n",
       "      <td>15</td>\n",
       "    </tr>\n",
       "    <tr>\n",
       "      <th>32434487</th>\n",
       "      <td>3393151</td>\n",
       "      <td>38977</td>\n",
       "      <td>32</td>\n",
       "      <td>0</td>\n",
       "      <td>Original Jerky</td>\n",
       "      <td>100</td>\n",
       "      <td>21</td>\n",
       "    </tr>\n",
       "    <tr>\n",
       "      <th>32434488</th>\n",
       "      <td>3400803</td>\n",
       "      <td>23624</td>\n",
       "      <td>7</td>\n",
       "      <td>0</td>\n",
       "      <td>Flatbread Pizza All Natural</td>\n",
       "      <td>79</td>\n",
       "      <td>1</td>\n",
       "    </tr>\n",
       "  </tbody>\n",
       "</table>\n",
       "<p>32434489 rows × 7 columns</p>\n",
       "</div>"
      ],
      "text/plain": [
       "          order_id  product_id  add_to_cart_order  reordered  \\\n",
       "0                2       33120                  1          1   \n",
       "1               26       33120                  5          0   \n",
       "2              120       33120                 13          0   \n",
       "3              327       33120                  5          1   \n",
       "4              390       33120                 28          1   \n",
       "...            ...         ...                ...        ...   \n",
       "32434484   3265099       43492                  3          0   \n",
       "32434485   3361945       43492                 19          0   \n",
       "32434486   3267201       33097                  2          0   \n",
       "32434487   3393151       38977                 32          0   \n",
       "32434488   3400803       23624                  7          0   \n",
       "\n",
       "                            product_name  aisle_id  department_id  \n",
       "0                     Organic Egg Whites        86             16  \n",
       "1                     Organic Egg Whites        86             16  \n",
       "2                     Organic Egg Whites        86             16  \n",
       "3                     Organic Egg Whites        86             16  \n",
       "4                     Organic Egg Whites        86             16  \n",
       "...                                  ...       ...            ...  \n",
       "32434484        Gourmet Burger Seasoning       104             13  \n",
       "32434485        Gourmet Burger Seasoning       104             13  \n",
       "32434486  Piquillo & Jalapeno Bruschetta        81             15  \n",
       "32434487                  Original Jerky       100             21  \n",
       "32434488     Flatbread Pizza All Natural        79              1  \n",
       "\n",
       "[32434489 rows x 7 columns]"
      ]
     },
     "execution_count": 11,
     "metadata": {},
     "output_type": "execute_result"
    }
   ],
   "source": [
    "prior_orders_merge"
   ]
  },
  {
   "cell_type": "code",
   "execution_count": 12,
   "metadata": {},
   "outputs": [],
   "source": [
    "# Create dictionary of product_id and product_name.\n",
    "prior_subset = prior_orders_merge[[\"product_id\", \"product_name\"]]\n",
    "prior_subset.drop_duplicates(inplace=True, subset='product_id', keep=\"last\")\n",
    "prior_dict = prior_subset.groupby('product_id')['product_name'].apply(list).to_dict()"
   ]
  },
  {
   "cell_type": "markdown",
   "metadata": {},
   "source": [
    "## Look at recommendations of a random order on the prior_orders_test dataset"
   ]
  },
  {
   "cell_type": "code",
   "execution_count": 13,
   "metadata": {},
   "outputs": [],
   "source": [
    "# Load models.\n",
    "model_base_split = gensim.models.Word2Vec.load('/mnt/c/Users/jessi/OneDrive/Desktop/model_base_split')\n",
    "model_ns10_split = gensim.models.Word2Vec.load('/mnt/c/Users/jessi/OneDrive/Desktop/model_ns10_split')\n",
    "model_s200_split = gensim.models.Word2Vec.load('/mnt/c/Users/jessi/OneDrive/Desktop/model_s200_split')"
   ]
  },
  {
   "cell_type": "code",
   "execution_count": 14,
   "metadata": {},
   "outputs": [
    {
     "name": "stdout",
     "output_type": "stream",
     "text": [
      "Word2Vec(vocab=49641, size=100, alpha=0.025)\n",
      "Word2Vec(vocab=49641, size=100, alpha=0.025)\n",
      "Word2Vec(vocab=49641, size=200, alpha=0.025)\n"
     ]
    }
   ],
   "source": [
    "# Look at an overview of the model. They each have the same number of words, which is expected.\n",
    "print(model_base_split)\n",
    "print(model_ns10_split)\n",
    "print(model_s200_split)"
   ]
  },
  {
   "cell_type": "code",
   "execution_count": 15,
   "metadata": {},
   "outputs": [],
   "source": [
    "#test.sample(1)\n",
    "#Result: order_id 201920"
   ]
  },
  {
   "cell_type": "code",
   "execution_count": 16,
   "metadata": {},
   "outputs": [
    {
     "data": {
      "text/html": [
       "<div>\n",
       "<style scoped>\n",
       "    .dataframe tbody tr th:only-of-type {\n",
       "        vertical-align: middle;\n",
       "    }\n",
       "\n",
       "    .dataframe tbody tr th {\n",
       "        vertical-align: top;\n",
       "    }\n",
       "\n",
       "    .dataframe thead th {\n",
       "        text-align: right;\n",
       "    }\n",
       "</style>\n",
       "<table border=\"1\" class=\"dataframe\">\n",
       "  <thead>\n",
       "    <tr style=\"text-align: right;\">\n",
       "      <th></th>\n",
       "      <th>order_id</th>\n",
       "      <th>product_id</th>\n",
       "      <th>add_to_cart_order</th>\n",
       "      <th>reordered</th>\n",
       "    </tr>\n",
       "  </thead>\n",
       "  <tbody>\n",
       "    <tr>\n",
       "      <th>1970840</th>\n",
       "      <td>207820</td>\n",
       "      <td>22802</td>\n",
       "      <td>1</td>\n",
       "      <td>1</td>\n",
       "    </tr>\n",
       "    <tr>\n",
       "      <th>1970841</th>\n",
       "      <td>207820</td>\n",
       "      <td>38768</td>\n",
       "      <td>2</td>\n",
       "      <td>1</td>\n",
       "    </tr>\n",
       "    <tr>\n",
       "      <th>1970842</th>\n",
       "      <td>207820</td>\n",
       "      <td>6184</td>\n",
       "      <td>3</td>\n",
       "      <td>0</td>\n",
       "    </tr>\n",
       "    <tr>\n",
       "      <th>1970843</th>\n",
       "      <td>207820</td>\n",
       "      <td>21903</td>\n",
       "      <td>4</td>\n",
       "      <td>1</td>\n",
       "    </tr>\n",
       "    <tr>\n",
       "      <th>1970844</th>\n",
       "      <td>207820</td>\n",
       "      <td>10424</td>\n",
       "      <td>5</td>\n",
       "      <td>0</td>\n",
       "    </tr>\n",
       "    <tr>\n",
       "      <th>1970845</th>\n",
       "      <td>207820</td>\n",
       "      <td>33081</td>\n",
       "      <td>6</td>\n",
       "      <td>0</td>\n",
       "    </tr>\n",
       "  </tbody>\n",
       "</table>\n",
       "</div>"
      ],
      "text/plain": [
       "         order_id  product_id  add_to_cart_order  reordered\n",
       "1970840    207820       22802                  1          1\n",
       "1970841    207820       38768                  2          1\n",
       "1970842    207820        6184                  3          0\n",
       "1970843    207820       21903                  4          1\n",
       "1970844    207820       10424                  5          0\n",
       "1970845    207820       33081                  6          0"
      ]
     },
     "execution_count": 16,
     "metadata": {},
     "output_type": "execute_result"
    }
   ],
   "source": [
    "# Look at all of the items that were in order #207820 (randomly selected order).\n",
    "test.loc[test['order_id'] == 207820]"
   ]
  },
  {
   "cell_type": "code",
   "execution_count": 17,
   "metadata": {},
   "outputs": [
    {
     "name": "stdout",
     "output_type": "stream",
     "text": [
      "['Mineral Water']\n",
      "['Sweet Kale Salad Mix']\n",
      "['Clementines']\n",
      "['Organic Baby Spinach']\n",
      "['Triple Creme Brie']\n",
      "['Chicken Apple Sausage']\n"
     ]
    }
   ],
   "source": [
    "# Look up the product names of the items in order 207820.\n",
    "temp_test = np.array(test['product_id'][test['order_id'] == 207820])\n",
    "\n",
    "for row in temp_test:\n",
    "    print(prior_dict[int(row)])"
   ]
  },
  {
   "cell_type": "code",
   "execution_count": 18,
   "metadata": {},
   "outputs": [],
   "source": [
    "# Convert the model into vectors.\n",
    "word_vectors = model_base_split.wv\n",
    "word_vectors_ns10 = model_ns10_split.wv\n",
    "word_vectors_s200 = model_s200_split.wv"
   ]
  },
  {
   "cell_type": "code",
   "execution_count": 19,
   "metadata": {},
   "outputs": [],
   "source": [
    "#Look up the index of order_id in the dataset containing a list of all unique order_ids used for predictions\n",
    "x = test.loc[test['order_id'] == 207820]\n",
    "x['product_id'] = x['product_id'].astype(str)\n",
    "x = x['product_id']"
   ]
  },
  {
   "cell_type": "code",
   "execution_count": 20,
   "metadata": {},
   "outputs": [],
   "source": [
    "# Calculate the average vector for order 207820 by taking each feature vector of each ID and taking an average.\n",
    "xx = []\n",
    "for i in x:\n",
    "    a = model_base_split[i]\n",
    "    xx.append(a)\n",
    "    avg_base = np.mean(xx, axis=0)\n",
    "    \n",
    "yy = []\n",
    "for i in x:\n",
    "    a = model_ns10_split[i]\n",
    "    yy.append(a)\n",
    "    avg_ns10 = np.mean(yy, axis=0)\n",
    "    \n",
    "zz = []\n",
    "for i in x:\n",
    "    a = model_s200_split[i]\n",
    "    zz.append(a)\n",
    "    avg_s200 = np.mean(zz, axis=0)"
   ]
  },
  {
   "cell_type": "code",
   "execution_count": 21,
   "metadata": {},
   "outputs": [],
   "source": [
    "# Run the averaged vectors through the model to get the similar items.\n",
    "base_pred = model_base_split.similar_by_vector(avg_base)\n",
    "ns10_pred = model_ns10_split.similar_by_vector(avg_ns10)\n",
    "s200_pred = model_s200_split.similar_by_vector(avg_s200)"
   ]
  },
  {
   "cell_type": "code",
   "execution_count": 22,
   "metadata": {},
   "outputs": [
    {
     "name": "stdout",
     "output_type": "stream",
     "text": [
      "['Bing Dark Red Sweet Cherries']\n",
      "['Grapefruit Holiday Box']\n",
      "['Eternal Alkaline Water']\n",
      "['Garlic Naan Bread']\n",
      "['Natural Chicken Breast Strips']\n",
      "['Premium Organic Quinoa']\n",
      "['Organic Dry Roasted & Salted Cashews']\n",
      "['Gold Nugget Mandarins']\n",
      "['Calcium 600mg + D3 Tablets']\n",
      "['Organic Sopressata']\n"
     ]
    }
   ],
   "source": [
    "# Look at the predicted items\n",
    "for row in base_pred:\n",
    "    print(prior_dict[int(row[0])])"
   ]
  },
  {
   "cell_type": "code",
   "execution_count": 23,
   "metadata": {},
   "outputs": [
    {
     "name": "stdout",
     "output_type": "stream",
     "text": [
      "['Bing Dark Red Sweet Cherries']\n",
      "['Calcium 600mg + D3 Tablets']\n",
      "['Garlic Naan Bread']\n",
      "['Grapefruit Holiday Box']\n",
      "['Gold Nugget Mandarins']\n",
      "['Eternal Alkaline Water']\n",
      "['Pure Mint With Herbal Accent Sugar Free Gum']\n",
      "['White Flesh Nectarines']\n",
      "['Organic Sopressata']\n",
      "['Organic Dry Roasted & Salted Cashews']\n"
     ]
    }
   ],
   "source": [
    "for row in ns10_pred:\n",
    "    print(prior_dict[int(row[0])])"
   ]
  },
  {
   "cell_type": "code",
   "execution_count": 24,
   "metadata": {},
   "outputs": [
    {
     "name": "stdout",
     "output_type": "stream",
     "text": [
      "['Bing Dark Red Sweet Cherries']\n",
      "['Garlic Naan Bread']\n",
      "['Gold Nugget Mandarins']\n",
      "['Eternal Alkaline Water']\n",
      "['Calcium 600mg + D3 Tablets']\n",
      "['Grapefruit Holiday Box']\n",
      "['Organic Dry Roasted & Salted Cashews']\n",
      "['Organic Sopressata']\n",
      "['Natural Chicken Breast Strips']\n",
      "['Premium Organic Quinoa']\n"
     ]
    }
   ],
   "source": [
    "for row in s200_pred:\n",
    "    print(prior_dict[int(row[0])])"
   ]
  },
  {
   "cell_type": "markdown",
   "metadata": {},
   "source": [
    "With the original items being Mineral Water, Sweet Kale Salad Mix, Clementins, Organic Baby Spinach, Triple Cream Brie, and Chicken Apple Sausage, we have some items that appear to be reasonable predictions, such as the Bing Dark Red Sweet Cherries, Gold Nugget Mandarines, Eternal Alkaline Water, and White Flesh Nectarines. Our models do appear to be reasonable so far on the test part of the training dataset."
   ]
  },
  {
   "cell_type": "markdown",
   "metadata": {},
   "source": [
    "## Testing the model"
   ]
  },
  {
   "cell_type": "code",
   "execution_count": 25,
   "metadata": {},
   "outputs": [],
   "source": [
    "# Read in the test set.\n",
    "test_orders = pd.read_csv('Instacart Data/order_products__train.csv')"
   ]
  },
  {
   "cell_type": "code",
   "execution_count": 26,
   "metadata": {},
   "outputs": [
    {
     "data": {
      "text/html": [
       "<div>\n",
       "<style scoped>\n",
       "    .dataframe tbody tr th:only-of-type {\n",
       "        vertical-align: middle;\n",
       "    }\n",
       "\n",
       "    .dataframe tbody tr th {\n",
       "        vertical-align: top;\n",
       "    }\n",
       "\n",
       "    .dataframe thead th {\n",
       "        text-align: right;\n",
       "    }\n",
       "</style>\n",
       "<table border=\"1\" class=\"dataframe\">\n",
       "  <thead>\n",
       "    <tr style=\"text-align: right;\">\n",
       "      <th></th>\n",
       "      <th>order_id</th>\n",
       "      <th>product_id</th>\n",
       "      <th>add_to_cart_order</th>\n",
       "      <th>reordered</th>\n",
       "    </tr>\n",
       "  </thead>\n",
       "  <tbody>\n",
       "    <tr>\n",
       "      <th>0</th>\n",
       "      <td>1</td>\n",
       "      <td>49302</td>\n",
       "      <td>1</td>\n",
       "      <td>1</td>\n",
       "    </tr>\n",
       "    <tr>\n",
       "      <th>1</th>\n",
       "      <td>1</td>\n",
       "      <td>11109</td>\n",
       "      <td>2</td>\n",
       "      <td>1</td>\n",
       "    </tr>\n",
       "    <tr>\n",
       "      <th>2</th>\n",
       "      <td>1</td>\n",
       "      <td>10246</td>\n",
       "      <td>3</td>\n",
       "      <td>0</td>\n",
       "    </tr>\n",
       "    <tr>\n",
       "      <th>3</th>\n",
       "      <td>1</td>\n",
       "      <td>49683</td>\n",
       "      <td>4</td>\n",
       "      <td>0</td>\n",
       "    </tr>\n",
       "    <tr>\n",
       "      <th>4</th>\n",
       "      <td>1</td>\n",
       "      <td>43633</td>\n",
       "      <td>5</td>\n",
       "      <td>1</td>\n",
       "    </tr>\n",
       "    <tr>\n",
       "      <th>...</th>\n",
       "      <td>...</td>\n",
       "      <td>...</td>\n",
       "      <td>...</td>\n",
       "      <td>...</td>\n",
       "    </tr>\n",
       "    <tr>\n",
       "      <th>1384612</th>\n",
       "      <td>3421063</td>\n",
       "      <td>14233</td>\n",
       "      <td>3</td>\n",
       "      <td>1</td>\n",
       "    </tr>\n",
       "    <tr>\n",
       "      <th>1384613</th>\n",
       "      <td>3421063</td>\n",
       "      <td>35548</td>\n",
       "      <td>4</td>\n",
       "      <td>1</td>\n",
       "    </tr>\n",
       "    <tr>\n",
       "      <th>1384614</th>\n",
       "      <td>3421070</td>\n",
       "      <td>35951</td>\n",
       "      <td>1</td>\n",
       "      <td>1</td>\n",
       "    </tr>\n",
       "    <tr>\n",
       "      <th>1384615</th>\n",
       "      <td>3421070</td>\n",
       "      <td>16953</td>\n",
       "      <td>2</td>\n",
       "      <td>1</td>\n",
       "    </tr>\n",
       "    <tr>\n",
       "      <th>1384616</th>\n",
       "      <td>3421070</td>\n",
       "      <td>4724</td>\n",
       "      <td>3</td>\n",
       "      <td>1</td>\n",
       "    </tr>\n",
       "  </tbody>\n",
       "</table>\n",
       "<p>1384617 rows × 4 columns</p>\n",
       "</div>"
      ],
      "text/plain": [
       "         order_id  product_id  add_to_cart_order  reordered\n",
       "0               1       49302                  1          1\n",
       "1               1       11109                  2          1\n",
       "2               1       10246                  3          0\n",
       "3               1       49683                  4          0\n",
       "4               1       43633                  5          1\n",
       "...           ...         ...                ...        ...\n",
       "1384612   3421063       14233                  3          1\n",
       "1384613   3421063       35548                  4          1\n",
       "1384614   3421070       35951                  1          1\n",
       "1384615   3421070       16953                  2          1\n",
       "1384616   3421070        4724                  3          1\n",
       "\n",
       "[1384617 rows x 4 columns]"
      ]
     },
     "execution_count": 26,
     "metadata": {},
     "output_type": "execute_result"
    }
   ],
   "source": [
    "test_orders"
   ]
  },
  {
   "cell_type": "code",
   "execution_count": 27,
   "metadata": {},
   "outputs": [],
   "source": [
    "# Convert the product_id column to strings.\n",
    "test_orders[\"product_id\"] = test_orders[\"product_id\"].astype(str) "
   ]
  },
  {
   "cell_type": "code",
   "execution_count": 28,
   "metadata": {},
   "outputs": [],
   "source": [
    "# Check to see which product ids are not in the word2vec model vocabulary.\n",
    "\n",
    "# Obtain a list of all the unique product ids in the test_orders_train dataframe\n",
    "temp1 = test_orders[\"product_id\"].unique()"
   ]
  },
  {
   "cell_type": "code",
   "execution_count": 29,
   "metadata": {},
   "outputs": [],
   "source": [
    "# Check if the product ids are in the vocabulary.\n",
    "\n",
    "check = []\n",
    "for word in temp1:\n",
    "    x = word in word_vectors.vocab\n",
    "    check.append([word, x])\n",
    "    \n",
    "check_ns10 = []\n",
    "for word in temp1:\n",
    "    x = word in word_vectors_ns10.vocab\n",
    "    check_ns10.append([word, x])\n",
    "    \n",
    "check_s200 = []\n",
    "for word in temp1:\n",
    "    x = word in word_vectors_s200.vocab\n",
    "    check_s200.append([word, x])"
   ]
  },
  {
   "cell_type": "code",
   "execution_count": 30,
   "metadata": {},
   "outputs": [],
   "source": [
    "# Convert the list to a dataframe.\n",
    "check = pd.DataFrame(check)\n",
    "check_ns10 = pd.DataFrame(check_ns10)\n",
    "check_s200 = pd.DataFrame(check_s200)"
   ]
  },
  {
   "cell_type": "code",
   "execution_count": 31,
   "metadata": {},
   "outputs": [
    {
     "name": "stdout",
     "output_type": "stream",
     "text": [
      "True\n",
      "True\n",
      "21\n"
     ]
    }
   ],
   "source": [
    "# Check if the resulting dataframes are true (they should be, as all models have the same vocabulary).\n",
    "print(check.equals(check_ns10))\n",
    "print(check.equals(check_s200))\n",
    "print(len(check[check[1] == False]))"
   ]
  },
  {
   "cell_type": "markdown",
   "metadata": {},
   "source": [
    "Because the model was trained on the orders in the prior_order data, if a product is in the train_order dataset but not in the prior_order dataset, the model will not be able to use it to make a prediction. As such, we are using only the orders that have products in the prior_order dataset; there are only 21 items that are not included in the model vocabulary. Because all of the models had the same check results, we will proceed using just the check of the base model."
   ]
  },
  {
   "cell_type": "code",
   "execution_count": 32,
   "metadata": {},
   "outputs": [],
   "source": [
    "# Rename column names in the check dataframe for merging.\n",
    "check = check.rename(columns={0: 'product_id', 1: 'exists'})"
   ]
  },
  {
   "cell_type": "code",
   "execution_count": 33,
   "metadata": {},
   "outputs": [],
   "source": [
    "# Create new dataframe that indicates whether or not product ids exist.\n",
    "test_orders_check = pd.merge(test_orders, check, on='product_id')"
   ]
  },
  {
   "cell_type": "code",
   "execution_count": 34,
   "metadata": {},
   "outputs": [],
   "source": [
    "# Create new dataframe to have only product ids that exist.\n",
    "test_orders_exist = test_orders_check[test_orders_check['exists'] == True]"
   ]
  },
  {
   "cell_type": "code",
   "execution_count": 35,
   "metadata": {},
   "outputs": [
    {
     "data": {
      "text/html": [
       "<div>\n",
       "<style scoped>\n",
       "    .dataframe tbody tr th:only-of-type {\n",
       "        vertical-align: middle;\n",
       "    }\n",
       "\n",
       "    .dataframe tbody tr th {\n",
       "        vertical-align: top;\n",
       "    }\n",
       "\n",
       "    .dataframe thead th {\n",
       "        text-align: right;\n",
       "    }\n",
       "</style>\n",
       "<table border=\"1\" class=\"dataframe\">\n",
       "  <thead>\n",
       "    <tr style=\"text-align: right;\">\n",
       "      <th></th>\n",
       "      <th>order_id</th>\n",
       "      <th>product_id</th>\n",
       "      <th>add_to_cart_order</th>\n",
       "      <th>reordered</th>\n",
       "      <th>exists</th>\n",
       "    </tr>\n",
       "  </thead>\n",
       "  <tbody>\n",
       "    <tr>\n",
       "      <th>0</th>\n",
       "      <td>1</td>\n",
       "      <td>49302</td>\n",
       "      <td>1</td>\n",
       "      <td>1</td>\n",
       "      <td>True</td>\n",
       "    </tr>\n",
       "    <tr>\n",
       "      <th>1</th>\n",
       "      <td>816049</td>\n",
       "      <td>49302</td>\n",
       "      <td>7</td>\n",
       "      <td>1</td>\n",
       "      <td>True</td>\n",
       "    </tr>\n",
       "    <tr>\n",
       "      <th>2</th>\n",
       "      <td>1242203</td>\n",
       "      <td>49302</td>\n",
       "      <td>1</td>\n",
       "      <td>1</td>\n",
       "      <td>True</td>\n",
       "    </tr>\n",
       "    <tr>\n",
       "      <th>3</th>\n",
       "      <td>1383349</td>\n",
       "      <td>49302</td>\n",
       "      <td>11</td>\n",
       "      <td>1</td>\n",
       "      <td>True</td>\n",
       "    </tr>\n",
       "    <tr>\n",
       "      <th>4</th>\n",
       "      <td>1787378</td>\n",
       "      <td>49302</td>\n",
       "      <td>8</td>\n",
       "      <td>0</td>\n",
       "      <td>True</td>\n",
       "    </tr>\n",
       "  </tbody>\n",
       "</table>\n",
       "</div>"
      ],
      "text/plain": [
       "   order_id product_id  add_to_cart_order  reordered  exists\n",
       "0         1      49302                  1          1    True\n",
       "1    816049      49302                  7          1    True\n",
       "2   1242203      49302                  1          1    True\n",
       "3   1383349      49302                 11          1    True\n",
       "4   1787378      49302                  8          0    True"
      ]
     },
     "execution_count": 35,
     "metadata": {},
     "output_type": "execute_result"
    }
   ],
   "source": [
    "# Look at the dataframe.\n",
    "test_orders_exist.head()"
   ]
  },
  {
   "cell_type": "code",
   "execution_count": 36,
   "metadata": {},
   "outputs": [],
   "source": [
    "# Obtain sentences.\n",
    "sentences_train_true = test_orders_exist.groupby(\"order_id\")['product_id'].apply(list)\n",
    "longest = np.max(sentences_train_true.apply(len))"
   ]
  },
  {
   "cell_type": "markdown",
   "metadata": {},
   "source": [
    "### Run the various models."
   ]
  },
  {
   "cell_type": "code",
   "execution_count": 37,
   "metadata": {},
   "outputs": [],
   "source": [
    "# Calculate the average of the vectors (per order) that result from putting each id through the model.\n",
    "sentences_train_single_temp_base = []\n",
    "\n",
    "for i in range(0,len(sentences_train_true)):\n",
    "    x = np.mean(model_base_split[sentences_train_true.iloc[i]], axis=0)\n",
    "    sentences_train_single_temp_base.append(x)\n",
    "\n",
    "#for model with negative sampling 10\n",
    "sentences_train_single_temp_ns10 = []\n",
    "\n",
    "for i in range(0,len(sentences_train_true)):\n",
    "    x = np.mean(model_ns10_split[sentences_train_true.iloc[i]], axis=0)\n",
    "    sentences_train_single_temp_ns10.append(x)\n",
    "    \n",
    "#for model with vector size 200\n",
    "sentences_train_single_temp_s200 = []\n",
    "\n",
    "for i in range(0,len(sentences_train_true)):\n",
    "    x = np.mean(model_s200_split[sentences_train_true.iloc[i]], axis=0)\n",
    "    sentences_train_single_temp_s200.append(x)"
   ]
  },
  {
   "cell_type": "code",
   "execution_count": 38,
   "metadata": {},
   "outputs": [],
   "source": [
    "# Run the averaged vectors through the model to get the similar items.\n",
    "predictions_base = []\n",
    "\n",
    "for i in range(0,len(sentences_train_single_temp_base)):\n",
    "    x = model_base_split.similar_by_vector(sentences_train_single_temp_base[i])\n",
    "    predictions_base.append(x)\n",
    "    \n",
    "#for model with negative sampling 10\n",
    "predictions_ns10 = []\n",
    "\n",
    "for i in range(0,len(sentences_train_single_temp_ns10)):\n",
    "    x = model_ns10_split.similar_by_vector(sentences_train_single_temp_ns10[i])\n",
    "    predictions_ns10.append(x)\n",
    "    \n",
    "#for model with vector size 200\n",
    "predictions_s200 = []\n",
    "\n",
    "for i in range(0,len(sentences_train_single_temp_s200)):\n",
    "    x = model_s200_split.similar_by_vector(sentences_train_single_temp_s200[i])\n",
    "    predictions_s200.append(x)"
   ]
  },
  {
   "cell_type": "code",
   "execution_count": 39,
   "metadata": {},
   "outputs": [],
   "source": [
    "# Obtain a list of all the unique order_ids in the test_order_train dataset to merge with the recommendations into a dataframe.\n",
    "test_order_ids = test_orders_exist[\"order_id\"].unique()"
   ]
  },
  {
   "cell_type": "code",
   "execution_count": 40,
   "metadata": {},
   "outputs": [],
   "source": [
    "# Create a dataframe.\n",
    "preds_base = (test_order_ids, predictions_base)\n",
    "preds_base = pd.DataFrame(preds_base)\n",
    "\n",
    "preds_ns10 = (test_order_ids, predictions_ns10)\n",
    "preds_ns10 = pd.DataFrame(preds_ns10)\n",
    "\n",
    "preds_s200 = (test_order_ids, predictions_s200)\n",
    "preds_s200 = pd.DataFrame(preds_s200)"
   ]
  },
  {
   "cell_type": "code",
   "execution_count": 41,
   "metadata": {},
   "outputs": [],
   "source": [
    "# Transpose the dataframe.\n",
    "preds_base = preds_base.T\n",
    "preds_ns10 = preds_ns10.T\n",
    "preds_s200 = preds_s200.T"
   ]
  },
  {
   "cell_type": "code",
   "execution_count": 42,
   "metadata": {},
   "outputs": [],
   "source": [
    "# Rename columns.\n",
    "preds_base2 = preds_base.rename(columns={0: 'order_id', 1: 'predicted products'})\n",
    "preds_ns10_2 = preds_ns10.rename(columns={0: 'order_id', 1: 'predicted products'})\n",
    "preds_s200_2 = preds_s200.rename(columns={0: 'order_id', 1: 'predicted products'})"
   ]
  },
  {
   "cell_type": "markdown",
   "metadata": {},
   "source": [
    "### Compare predicted results versus the actual products per order."
   ]
  },
  {
   "cell_type": "code",
   "execution_count": 43,
   "metadata": {},
   "outputs": [],
   "source": [
    "#Randomly select an order_id.\n",
    "#test_orders.sample(1)\n",
    "#Result: 232454"
   ]
  },
  {
   "cell_type": "code",
   "execution_count": 44,
   "metadata": {},
   "outputs": [
    {
     "data": {
      "text/html": [
       "<div>\n",
       "<style scoped>\n",
       "    .dataframe tbody tr th:only-of-type {\n",
       "        vertical-align: middle;\n",
       "    }\n",
       "\n",
       "    .dataframe tbody tr th {\n",
       "        vertical-align: top;\n",
       "    }\n",
       "\n",
       "    .dataframe thead th {\n",
       "        text-align: right;\n",
       "    }\n",
       "</style>\n",
       "<table border=\"1\" class=\"dataframe\">\n",
       "  <thead>\n",
       "    <tr style=\"text-align: right;\">\n",
       "      <th></th>\n",
       "      <th>order_id</th>\n",
       "      <th>product_id</th>\n",
       "      <th>add_to_cart_order</th>\n",
       "      <th>reordered</th>\n",
       "    </tr>\n",
       "  </thead>\n",
       "  <tbody>\n",
       "    <tr>\n",
       "      <th>93612</th>\n",
       "      <td>232454</td>\n",
       "      <td>14852</td>\n",
       "      <td>1</td>\n",
       "      <td>0</td>\n",
       "    </tr>\n",
       "    <tr>\n",
       "      <th>93613</th>\n",
       "      <td>232454</td>\n",
       "      <td>45</td>\n",
       "      <td>2</td>\n",
       "      <td>1</td>\n",
       "    </tr>\n",
       "    <tr>\n",
       "      <th>93614</th>\n",
       "      <td>232454</td>\n",
       "      <td>39993</td>\n",
       "      <td>3</td>\n",
       "      <td>1</td>\n",
       "    </tr>\n",
       "    <tr>\n",
       "      <th>93615</th>\n",
       "      <td>232454</td>\n",
       "      <td>44142</td>\n",
       "      <td>4</td>\n",
       "      <td>1</td>\n",
       "    </tr>\n",
       "    <tr>\n",
       "      <th>93616</th>\n",
       "      <td>232454</td>\n",
       "      <td>45066</td>\n",
       "      <td>5</td>\n",
       "      <td>0</td>\n",
       "    </tr>\n",
       "    <tr>\n",
       "      <th>93617</th>\n",
       "      <td>232454</td>\n",
       "      <td>35989</td>\n",
       "      <td>6</td>\n",
       "      <td>1</td>\n",
       "    </tr>\n",
       "    <tr>\n",
       "      <th>93618</th>\n",
       "      <td>232454</td>\n",
       "      <td>31553</td>\n",
       "      <td>7</td>\n",
       "      <td>1</td>\n",
       "    </tr>\n",
       "    <tr>\n",
       "      <th>93619</th>\n",
       "      <td>232454</td>\n",
       "      <td>36315</td>\n",
       "      <td>8</td>\n",
       "      <td>1</td>\n",
       "    </tr>\n",
       "    <tr>\n",
       "      <th>93620</th>\n",
       "      <td>232454</td>\n",
       "      <td>19488</td>\n",
       "      <td>9</td>\n",
       "      <td>1</td>\n",
       "    </tr>\n",
       "    <tr>\n",
       "      <th>93621</th>\n",
       "      <td>232454</td>\n",
       "      <td>881</td>\n",
       "      <td>10</td>\n",
       "      <td>1</td>\n",
       "    </tr>\n",
       "    <tr>\n",
       "      <th>93622</th>\n",
       "      <td>232454</td>\n",
       "      <td>20057</td>\n",
       "      <td>11</td>\n",
       "      <td>1</td>\n",
       "    </tr>\n",
       "    <tr>\n",
       "      <th>93623</th>\n",
       "      <td>232454</td>\n",
       "      <td>4605</td>\n",
       "      <td>12</td>\n",
       "      <td>0</td>\n",
       "    </tr>\n",
       "    <tr>\n",
       "      <th>93624</th>\n",
       "      <td>232454</td>\n",
       "      <td>16215</td>\n",
       "      <td>13</td>\n",
       "      <td>0</td>\n",
       "    </tr>\n",
       "    <tr>\n",
       "      <th>93625</th>\n",
       "      <td>232454</td>\n",
       "      <td>36070</td>\n",
       "      <td>14</td>\n",
       "      <td>0</td>\n",
       "    </tr>\n",
       "    <tr>\n",
       "      <th>93626</th>\n",
       "      <td>232454</td>\n",
       "      <td>5100</td>\n",
       "      <td>15</td>\n",
       "      <td>0</td>\n",
       "    </tr>\n",
       "    <tr>\n",
       "      <th>93627</th>\n",
       "      <td>232454</td>\n",
       "      <td>47066</td>\n",
       "      <td>16</td>\n",
       "      <td>0</td>\n",
       "    </tr>\n",
       "    <tr>\n",
       "      <th>93628</th>\n",
       "      <td>232454</td>\n",
       "      <td>5456</td>\n",
       "      <td>17</td>\n",
       "      <td>0</td>\n",
       "    </tr>\n",
       "  </tbody>\n",
       "</table>\n",
       "</div>"
      ],
      "text/plain": [
       "       order_id product_id  add_to_cart_order  reordered\n",
       "93612    232454      14852                  1          0\n",
       "93613    232454         45                  2          1\n",
       "93614    232454      39993                  3          1\n",
       "93615    232454      44142                  4          1\n",
       "93616    232454      45066                  5          0\n",
       "93617    232454      35989                  6          1\n",
       "93618    232454      31553                  7          1\n",
       "93619    232454      36315                  8          1\n",
       "93620    232454      19488                  9          1\n",
       "93621    232454        881                 10          1\n",
       "93622    232454      20057                 11          1\n",
       "93623    232454       4605                 12          0\n",
       "93624    232454      16215                 13          0\n",
       "93625    232454      36070                 14          0\n",
       "93626    232454       5100                 15          0\n",
       "93627    232454      47066                 16          0\n",
       "93628    232454       5456                 17          0"
      ]
     },
     "execution_count": 44,
     "metadata": {},
     "output_type": "execute_result"
    }
   ],
   "source": [
    "# Look at all of the items that were in order #232454 (randomly selected order).\n",
    "test_orders.loc[test_orders['order_id'] == 232454]"
   ]
  },
  {
   "cell_type": "code",
   "execution_count": 45,
   "metadata": {},
   "outputs": [
    {
     "name": "stdout",
     "output_type": "stream",
     "text": [
      "['All Natural Marinara Sauce']\n",
      "['European Cucumber']\n",
      "['Vine Ripe Tomatoes']\n",
      "['Red Onion']\n",
      "['Honeycrisp Apple']\n",
      "['Coconut Flavored Sparkling Water']\n",
      "['Fresh Ginger Root']\n",
      "['Low Fat Split Pea Soup']\n",
      "['Select-A-Size White Paper Towels']\n",
      "['Heavy Duty Scrub Sponges']\n",
      "['Tall Kitchen Bags, Drawstring, Lavender, 13 Gal, Mega Pack']\n",
      "['Yellow Onions']\n",
      "['100% Natural Beef Broth']\n",
      "['Super Spinach! Baby Spinach, Baby Bok Choy, Sweet Baby Kale']\n",
      "['Coffee, Coffee BuzzBuzzBuzz!® Ice Cream']\n",
      "['Traditional Rope Hung Smoked Scottish Salmon']\n",
      "['Green Tea With Ginseng and Honey']\n"
     ]
    }
   ],
   "source": [
    "# Look up the product names of the items in order 38.\n",
    "temp_original = np.array(test_orders['product_id'][test_orders['order_id'] == 232454])\n",
    "\n",
    "for row in temp_original:\n",
    "    print(prior_dict[int(row)])"
   ]
  },
  {
   "cell_type": "code",
   "execution_count": 46,
   "metadata": {},
   "outputs": [
    {
     "data": {
      "text/plain": [
       "(array([84030]),)"
      ]
     },
     "execution_count": 46,
     "metadata": {},
     "output_type": "execute_result"
    }
   ],
   "source": [
    "#Look up the index of order_id in the dataset containing a list of all unique order_ids used for predictions\n",
    "np.where(test_order_ids == 232454)"
   ]
  },
  {
   "cell_type": "code",
   "execution_count": 47,
   "metadata": {},
   "outputs": [],
   "source": [
    "# Look at the predicted items\n",
    "temp = preds_base2.iloc[84030]['predicted products']\n",
    "temp_ns10 = preds_ns10_2.iloc[84030]['predicted products']\n",
    "temp_s200 = preds_s200_2.iloc[84030]['predicted products']"
   ]
  },
  {
   "cell_type": "code",
   "execution_count": 48,
   "metadata": {},
   "outputs": [
    {
     "name": "stdout",
     "output_type": "stream",
     "text": [
      "['Cookies']\n",
      "['Ice Cream Cake Celebration']\n",
      "['Variety Pack Grab & Snack']\n",
      "['Unsweetened Lemon Flavor Real Brewed Tea']\n",
      "[\"Organic Fruit Snacks Bunch O' Berries\"]\n",
      "['Clear Strips']\n",
      "['Whitening Plus Scope Crest Complete Multi-Benefit Cool Peppermint Flavor Liquid Gel Toothpaste']\n",
      "['Original Cheesy Made Easy Macaroni & Cheese Dinner']\n",
      "['Homestyle Pretzels']\n",
      "['Natural Premium Coconut Water & Pineapple Juice From Concentrate']\n"
     ]
    }
   ],
   "source": [
    "# The results from the base model appears to have recommended products most similar to the original products. \n",
    "for row in temp:\n",
    "    print(prior_dict[int(row[0])])"
   ]
  },
  {
   "cell_type": "code",
   "execution_count": 49,
   "metadata": {},
   "outputs": [
    {
     "name": "stdout",
     "output_type": "stream",
     "text": [
      "['Ice Cream Cake Celebration']\n",
      "['Cookies']\n",
      "['Unsweetened Lemon Flavor Real Brewed Tea']\n",
      "['Variety Pack Grab & Snack']\n",
      "[\"Organic Fruit Snacks Bunch O' Berries\"]\n",
      "['Natural Premium Coconut Water & Pineapple Juice From Concentrate']\n",
      "['Strawberry Banana on the Bottom Greek Yogurt']\n",
      "['Chips Deluxe Mini Rainbow Cookies']\n",
      "['Clear Strips']\n",
      "[\"Frosted St. Patrick's Day Cookies\"]\n"
     ]
    }
   ],
   "source": [
    "#The below is the result displayed in the PowerPoint.\n",
    "for row in temp_ns10:\n",
    "    print(prior_dict[int(row[0])])"
   ]
  },
  {
   "cell_type": "code",
   "execution_count": 50,
   "metadata": {},
   "outputs": [
    {
     "name": "stdout",
     "output_type": "stream",
     "text": [
      "['Cookies']\n",
      "['Ice Cream Cake Celebration']\n",
      "['Variety Pack Grab & Snack']\n",
      "['Clear Strips']\n",
      "['Strawberry Banana on the Bottom Greek Yogurt']\n",
      "['Unsweetened Lemon Flavor Real Brewed Tea']\n",
      "['Special K Fudge Mini Brownies']\n",
      "['Whitening Plus Scope Crest Complete Multi-Benefit Cool Peppermint Flavor Liquid Gel Toothpaste']\n",
      "['Cool Brew Peach Black Iced Tea']\n",
      "['Plenti Greek Coconut Low Fat Yogurt']\n"
     ]
    }
   ],
   "source": [
    "for row in temp_s200:\n",
    "    print(prior_dict[int(row[0])])"
   ]
  },
  {
   "cell_type": "markdown",
   "metadata": {},
   "source": [
    "The original order included a variety of produce, soup, and general household items. \n",
    "\n",
    "All three models made recommendations that were reasonable, but while the base model had four reasonable recommendations (cookies and ice cream (desserts, like the ice cream), unsweetened lemon flavor real brewed tea (tea, like the green tea with ginseng and honey), and natural premium coconut water and pineapple juice from concentrate (coconut flavored water), the model with negative sampling and the model with the vector size of 200 had six and five, respectively.\n",
    "\n",
    "The items in the negative sampling model that appear reasonable are: ice cream cake celebration, cookies, chips deluxe mini rainbow cookies, and frosted St. Patrick's Day cookies (desserts), unsweetened lemon flavor real brewed tea (tea), natural premium coconut water (coconut water).\n",
    "\n",
    "The iteams in the model with vector size 200 that appear reasonable are: cookies, ice cream cake celebration, Special K fudge mini brownies (desserts), unsweetened lemon flavor real brewed tea and cool brew peach black iced tea (tea).\n",
    "\n",
    "In this example, the negative sampling model performed the best (this was the result in the PowerPoint)."
   ]
  },
  {
   "cell_type": "markdown",
   "metadata": {},
   "source": [
    "## Checking vectors of similar and dissimilar products"
   ]
  },
  {
   "cell_type": "code",
   "execution_count": 51,
   "metadata": {},
   "outputs": [],
   "source": [
    "# Create a dataframe to have both product_id and product_name\n",
    "prior_orders_merge = pd.merge(prior_orders, products, on = \"product_id\")"
   ]
  },
  {
   "cell_type": "code",
   "execution_count": 52,
   "metadata": {},
   "outputs": [
    {
     "data": {
      "text/plain": [
       "[('32156', 0.8086172342300415),\n",
       " ('25146', 0.776132345199585),\n",
       " ('41290', 0.7720734477043152),\n",
       " ('39108', 0.7273651361465454),\n",
       " ('43967', 0.7117173671722412)]"
      ]
     },
     "execution_count": 52,
     "metadata": {},
     "output_type": "execute_result"
    }
   ],
   "source": [
    "#Look at the top most similar items to Apple Juice\n",
    "sim_apple_juice = model_ns10_split.most_similar(\"38200\")[:5]\n",
    "sim_apple_juice"
   ]
  },
  {
   "cell_type": "code",
   "execution_count": 53,
   "metadata": {},
   "outputs": [
    {
     "name": "stdout",
     "output_type": "stream",
     "text": [
      "['Cranberry Juice Cocktail']\n",
      "['Original Orange Juice']\n",
      "['Lemonade']\n",
      "['Pulp Free Orange Juice']\n",
      "['Raspberry Lemonade']\n"
     ]
    }
   ],
   "source": [
    "# Look up what the similar products are.\n",
    "for row in sim_apple_juice:\n",
    "    print(prior_dict[int(row[0])])"
   ]
  },
  {
   "cell_type": "code",
   "execution_count": 54,
   "metadata": {},
   "outputs": [],
   "source": [
    "# Check the differences between vectors for similar products and dissimilar products\n",
    "# We expect similar products to have more similar vectors and dissimilar products to have less similar vectors.\n",
    "x = model_ns10_split[\"32156\"]\n",
    "y = model_ns10_split[\"25146\"]\n",
    "z = model_ns10_split[\"41290\"]\n",
    "aa = model_ns10_split[\"39108\"]\n",
    "bb = model_ns10_split[\"43967\"]"
   ]
  },
  {
   "cell_type": "code",
   "execution_count": 55,
   "metadata": {},
   "outputs": [
    {
     "name": "stdout",
     "output_type": "stream",
     "text": [
      "0.14101681\n",
      "0.15557656\n",
      "0.15521586\n",
      "0.17296939\n"
     ]
    }
   ],
   "source": [
    "# Look at the mean of the absolute value of differences of the vectors of the first item versus the frest\n",
    "print(np.mean(abs(x-y)))\n",
    "print(np.mean(abs(x-z)))\n",
    "print(np.mean(abs(x-aa)))\n",
    "print(np.mean(abs(x-bb)))"
   ]
  },
  {
   "cell_type": "markdown",
   "metadata": {},
   "source": [
    "## Comparing product recommendation results to market basket analysis"
   ]
  },
  {
   "cell_type": "code",
   "execution_count": 56,
   "metadata": {},
   "outputs": [
    {
     "data": {
      "text/plain": [
       "['Banana']"
      ]
     },
     "execution_count": 56,
     "metadata": {},
     "output_type": "execute_result"
    }
   ],
   "source": [
    "# See if one of the recommended items for Banana is Organic Fuji Apple, as that was identified as a strong relationship.\n",
    "prior_dict[24852]"
   ]
  },
  {
   "cell_type": "code",
   "execution_count": 57,
   "metadata": {},
   "outputs": [
    {
     "data": {
      "text/plain": [
       "[('28204', 0.869930624961853),\n",
       " ('4920', 0.8174550533294678),\n",
       " ('45066', 0.8151119947433472),\n",
       " ('46385', 0.8117666840553284),\n",
       " ('47144', 0.8072843551635742),\n",
       " ('6662', 0.8040908575057983),\n",
       " ('21956', 0.7975308299064636),\n",
       " ('40221', 0.797337532043457),\n",
       " ('9818', 0.7961570024490356),\n",
       " ('39651', 0.7952178716659546)]"
      ]
     },
     "execution_count": 57,
     "metadata": {},
     "output_type": "execute_result"
    }
   ],
   "source": [
    "#Look at the ten top most similar items to bananas\n",
    "sim_bananas = model_ns10_split.most_similar(\"24852\")[:10]\n",
    "sim_bananas"
   ]
  },
  {
   "cell_type": "code",
   "execution_count": 58,
   "metadata": {},
   "outputs": [
    {
     "name": "stdout",
     "output_type": "stream",
     "text": [
      "['Organic Fuji Apple']\n",
      "['Seedless Red Grapes']\n",
      "['Honeycrisp Apple']\n",
      "['Apple Wedges']\n",
      "['Unsweetened Original Almond Breeze Almond Milk']\n",
      "['Sliced Red Beets']\n",
      "['Yogurt, Greek, Nonfat, Strained, Blended with Strawberry']\n",
      "['Instant Rice, Enriched Long Grain Rice']\n",
      "['Cld/Flu Van Chrry']\n",
      "['Honey Lemon Flavor Oral Mist Cold Remedy']\n"
     ]
    }
   ],
   "source": [
    "# Look up what the similar products are.\n",
    "for row in sim_bananas:\n",
    "    print(prior_dict[int(row[0])])"
   ]
  },
  {
   "cell_type": "markdown",
   "metadata": {},
   "source": [
    "## Comparison of recommendations of toilet paper"
   ]
  },
  {
   "cell_type": "code",
   "execution_count": 59,
   "metadata": {},
   "outputs": [
    {
     "data": {
      "text/plain": [
       "['Toilet Tissue Rolls']"
      ]
     },
     "execution_count": 59,
     "metadata": {},
     "output_type": "execute_result"
    }
   ],
   "source": [
    "prior_dict[31353]"
   ]
  },
  {
   "cell_type": "code",
   "execution_count": 60,
   "metadata": {},
   "outputs": [
    {
     "data": {
      "text/plain": [
       "[('42705', 0.9007684588432312),\n",
       " ('4904', 0.8948682546615601),\n",
       " ('49162', 0.8912460803985596),\n",
       " ('10579', 0.8908408284187317),\n",
       " ('12775', 0.8886433839797974)]"
      ]
     },
     "execution_count": 60,
     "metadata": {},
     "output_type": "execute_result"
    }
   ],
   "source": [
    "#Look at the ten top most similar items to bananas\n",
    "sim_bananas = model_ns10_split.most_similar(\"31353\")[:5]\n",
    "sim_bananas"
   ]
  },
  {
   "cell_type": "code",
   "execution_count": 61,
   "metadata": {},
   "outputs": [
    {
     "name": "stdout",
     "output_type": "stream",
     "text": [
      "['Proactive Health Sensitive Stomach Cat Food']\n",
      "['Whisk Broom with Dust Pan']\n",
      "['Gold Temptation Refreshing Shower Gel']\n",
      "['Himalayan Pink Salt Liquid Hand Soap']\n",
      "['Berries Strawberry']\n"
     ]
    }
   ],
   "source": [
    "# Look up what the similar products are.\n",
    "for row in sim_bananas:\n",
    "    print(prior_dict[int(row[0])])"
   ]
  },
  {
   "cell_type": "code",
   "execution_count": null,
   "metadata": {},
   "outputs": [],
   "source": []
  }
 ],
 "metadata": {
  "kernelspec": {
   "display_name": "Python 3",
   "language": "python",
   "name": "python3"
  },
  "language_info": {
   "codemirror_mode": {
    "name": "ipython",
    "version": 3
   },
   "file_extension": ".py",
   "mimetype": "text/x-python",
   "name": "python",
   "nbconvert_exporter": "python",
   "pygments_lexer": "ipython3",
   "version": "3.7.4"
  }
 },
 "nbformat": 4,
 "nbformat_minor": 4
}
