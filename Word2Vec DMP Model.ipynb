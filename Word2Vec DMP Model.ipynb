{
 "cells": [
  {
   "cell_type": "markdown",
   "metadata": {},
   "source": [
    "## Set working directory"
   ]
  },
  {
   "cell_type": "code",
   "execution_count": 1,
   "metadata": {},
   "outputs": [
    {
     "data": {
      "text/plain": [
       "'/mnt/c/Users/jessi/OneDrive/Desktop/Data Mining/Assignment_3'"
      ]
     },
     "execution_count": 1,
     "metadata": {},
     "output_type": "execute_result"
    },
    {
     "name": "stdout",
     "output_type": "stream",
     "text": [
      "The history saving thread hit an unexpected error (DatabaseError('database disk image is malformed')).History will not be written to the database.\n"
     ]
    }
   ],
   "source": [
    "import os\n",
    "os.getcwd()"
   ]
  },
  {
   "cell_type": "code",
   "execution_count": 2,
   "metadata": {},
   "outputs": [],
   "source": [
    "os.chdir('/mnt/c/Users/jessi/OneDrive/Desktop')"
   ]
  },
  {
   "cell_type": "code",
   "execution_count": 3,
   "metadata": {},
   "outputs": [
    {
     "data": {
      "text/plain": [
       "'/mnt/c/Users/jessi/OneDrive/Desktop'"
      ]
     },
     "execution_count": 3,
     "metadata": {},
     "output_type": "execute_result"
    }
   ],
   "source": [
    "os.getcwd()"
   ]
  },
  {
   "cell_type": "markdown",
   "metadata": {},
   "source": [
    "## Read in and prepare data"
   ]
  },
  {
   "cell_type": "code",
   "execution_count": 4,
   "metadata": {},
   "outputs": [],
   "source": [
    "#pip install xgboost"
   ]
  },
  {
   "cell_type": "code",
   "execution_count": 4,
   "metadata": {},
   "outputs": [],
   "source": [
    "import pandas as pd\n",
    "import gensim\n",
    "import seaborn as sns\n",
    "import matplotlib.pyplot as plt\n",
    "import numpy as np\n",
    "import xgboost as xgb"
   ]
  },
  {
   "cell_type": "code",
   "execution_count": 5,
   "metadata": {},
   "outputs": [],
   "source": [
    "#aisles = pd.read_csv('Instacart Data/aisles.csv')\n",
    "#departments = pd.read_csv('Instacart Data/departments.csv')\n",
    "prior_orders = pd.read_csv('Instacart Data/order_products__prior.csv')\n",
    "#orders = pd.read_csv('Instacart Data/orders.csv')\n",
    "products = pd.read_csv('Instacart Data/products.csv')"
   ]
  },
  {
   "cell_type": "code",
   "execution_count": 7,
   "metadata": {},
   "outputs": [
    {
     "data": {
      "text/html": [
       "<div>\n",
       "<style scoped>\n",
       "    .dataframe tbody tr th:only-of-type {\n",
       "        vertical-align: middle;\n",
       "    }\n",
       "\n",
       "    .dataframe tbody tr th {\n",
       "        vertical-align: top;\n",
       "    }\n",
       "\n",
       "    .dataframe thead th {\n",
       "        text-align: right;\n",
       "    }\n",
       "</style>\n",
       "<table border=\"1\" class=\"dataframe\">\n",
       "  <thead>\n",
       "    <tr style=\"text-align: right;\">\n",
       "      <th></th>\n",
       "      <th>order_id</th>\n",
       "      <th>product_id</th>\n",
       "      <th>add_to_cart_order</th>\n",
       "      <th>reordered</th>\n",
       "    </tr>\n",
       "  </thead>\n",
       "  <tbody>\n",
       "    <tr>\n",
       "      <th>0</th>\n",
       "      <td>2</td>\n",
       "      <td>33120</td>\n",
       "      <td>1</td>\n",
       "      <td>1</td>\n",
       "    </tr>\n",
       "    <tr>\n",
       "      <th>1</th>\n",
       "      <td>2</td>\n",
       "      <td>28985</td>\n",
       "      <td>2</td>\n",
       "      <td>1</td>\n",
       "    </tr>\n",
       "    <tr>\n",
       "      <th>2</th>\n",
       "      <td>2</td>\n",
       "      <td>9327</td>\n",
       "      <td>3</td>\n",
       "      <td>0</td>\n",
       "    </tr>\n",
       "    <tr>\n",
       "      <th>3</th>\n",
       "      <td>2</td>\n",
       "      <td>45918</td>\n",
       "      <td>4</td>\n",
       "      <td>1</td>\n",
       "    </tr>\n",
       "    <tr>\n",
       "      <th>4</th>\n",
       "      <td>2</td>\n",
       "      <td>30035</td>\n",
       "      <td>5</td>\n",
       "      <td>0</td>\n",
       "    </tr>\n",
       "  </tbody>\n",
       "</table>\n",
       "</div>"
      ],
      "text/plain": [
       "   order_id  product_id  add_to_cart_order  reordered\n",
       "0         2       33120                  1          1\n",
       "1         2       28985                  2          1\n",
       "2         2        9327                  3          0\n",
       "3         2       45918                  4          1\n",
       "4         2       30035                  5          0"
      ]
     },
     "execution_count": 7,
     "metadata": {},
     "output_type": "execute_result"
    }
   ],
   "source": [
    "prior_orders.head()"
   ]
  },
  {
   "cell_type": "code",
   "execution_count": 15,
   "metadata": {},
   "outputs": [],
   "source": [
    "#convert column to string\n",
    "prior_orders[\"product_id\"] = prior_orders[\"product_id\"].astype(str) "
   ]
  },
  {
   "cell_type": "code",
   "execution_count": 6,
   "metadata": {},
   "outputs": [],
   "source": [
    "#get sentences (where a sentence is all of the products in one order)\n",
    "sentences = prior_orders.groupby(\"order_id\").apply(lambda order: order['product_id'].tolist())\n",
    "longest = np.max(sentences.apply(len))"
   ]
  },
  {
   "cell_type": "code",
   "execution_count": 17,
   "metadata": {},
   "outputs": [],
   "source": [
    "#convert to numpy array\n",
    "sentences = sentences.values"
   ]
  },
  {
   "cell_type": "markdown",
   "metadata": {},
   "source": [
    "## Train the word2vec model"
   ]
  },
  {
   "cell_type": "code",
   "execution_count": 18,
   "metadata": {},
   "outputs": [],
   "source": [
    "#sample=0 #Not included\n",
    "#(float, optional) – The threshold for configuring which higher-frequency words are randomly downsampled, useful range is (0, 1e-5).\n",
    "\n",
    "#RUN THE MODEL\n",
    "model = gensim.models.Word2Vec(sentences, sg=1, size=100, window=longest, min_count=10, \n",
    "                               workers=4, hs=0, negative=7,ns_exponent=0, \n",
    "                               iter=5)"
   ]
  },
  {
   "cell_type": "code",
   "execution_count": 20,
   "metadata": {},
   "outputs": [],
   "source": [
    "#save the model\n",
    "model.save('/mnt/c/Users/jessi/OneDrive/mymodel')"
   ]
  },
  {
   "cell_type": "markdown",
   "metadata": {},
   "source": [
    "## Recommendations"
   ]
  },
  {
   "cell_type": "code",
   "execution_count": 20,
   "metadata": {},
   "outputs": [],
   "source": [
    "#load model\n",
    "import gensim\n",
    "import pandas as pd\n",
    "\n",
    "model = gensim.models.Word2Vec.load('/mnt/c/Users/jessi/OneDrive/mymodel')"
   ]
  },
  {
   "cell_type": "code",
   "execution_count": 21,
   "metadata": {},
   "outputs": [],
   "source": [
    "#normalize the model; this makes the model more memory-efficient\n",
    "model.init_sims(replace=True)"
   ]
  },
  {
   "cell_type": "code",
   "execution_count": 5,
   "metadata": {},
   "outputs": [
    {
     "name": "stdout",
     "output_type": "stream",
     "text": [
      "Word2Vec(vocab=42512, size=100, alpha=0.025)\n"
     ]
    }
   ],
   "source": [
    "print(model) #vocab of 42,512 unique words with vectors of size 100"
   ]
  },
  {
   "cell_type": "code",
   "execution_count": 82,
   "metadata": {},
   "outputs": [],
   "source": [
    "#merge prior_orders and products to have product_id and product_name in one table\n",
    "prior_orders_merge = pd.merge(prior_orders, products, on=\"product_id\")"
   ]
  },
  {
   "cell_type": "code",
   "execution_count": 57,
   "metadata": {},
   "outputs": [
    {
     "data": {
      "text/html": [
       "<div>\n",
       "<style scoped>\n",
       "    .dataframe tbody tr th:only-of-type {\n",
       "        vertical-align: middle;\n",
       "    }\n",
       "\n",
       "    .dataframe tbody tr th {\n",
       "        vertical-align: top;\n",
       "    }\n",
       "\n",
       "    .dataframe thead th {\n",
       "        text-align: right;\n",
       "    }\n",
       "</style>\n",
       "<table border=\"1\" class=\"dataframe\">\n",
       "  <thead>\n",
       "    <tr style=\"text-align: right;\">\n",
       "      <th></th>\n",
       "      <th>order_id</th>\n",
       "      <th>product_id</th>\n",
       "      <th>add_to_cart_order</th>\n",
       "      <th>reordered</th>\n",
       "      <th>product_name</th>\n",
       "      <th>aisle_id</th>\n",
       "      <th>department_id</th>\n",
       "    </tr>\n",
       "  </thead>\n",
       "  <tbody>\n",
       "    <tr>\n",
       "      <th>0</th>\n",
       "      <td>2</td>\n",
       "      <td>33120</td>\n",
       "      <td>1</td>\n",
       "      <td>1</td>\n",
       "      <td>Organic Egg Whites</td>\n",
       "      <td>86</td>\n",
       "      <td>16</td>\n",
       "    </tr>\n",
       "    <tr>\n",
       "      <th>1</th>\n",
       "      <td>26</td>\n",
       "      <td>33120</td>\n",
       "      <td>5</td>\n",
       "      <td>0</td>\n",
       "      <td>Organic Egg Whites</td>\n",
       "      <td>86</td>\n",
       "      <td>16</td>\n",
       "    </tr>\n",
       "    <tr>\n",
       "      <th>2</th>\n",
       "      <td>120</td>\n",
       "      <td>33120</td>\n",
       "      <td>13</td>\n",
       "      <td>0</td>\n",
       "      <td>Organic Egg Whites</td>\n",
       "      <td>86</td>\n",
       "      <td>16</td>\n",
       "    </tr>\n",
       "    <tr>\n",
       "      <th>3</th>\n",
       "      <td>327</td>\n",
       "      <td>33120</td>\n",
       "      <td>5</td>\n",
       "      <td>1</td>\n",
       "      <td>Organic Egg Whites</td>\n",
       "      <td>86</td>\n",
       "      <td>16</td>\n",
       "    </tr>\n",
       "    <tr>\n",
       "      <th>4</th>\n",
       "      <td>390</td>\n",
       "      <td>33120</td>\n",
       "      <td>28</td>\n",
       "      <td>1</td>\n",
       "      <td>Organic Egg Whites</td>\n",
       "      <td>86</td>\n",
       "      <td>16</td>\n",
       "    </tr>\n",
       "    <tr>\n",
       "      <th>...</th>\n",
       "      <td>...</td>\n",
       "      <td>...</td>\n",
       "      <td>...</td>\n",
       "      <td>...</td>\n",
       "      <td>...</td>\n",
       "      <td>...</td>\n",
       "      <td>...</td>\n",
       "    </tr>\n",
       "    <tr>\n",
       "      <th>32434484</th>\n",
       "      <td>3265099</td>\n",
       "      <td>43492</td>\n",
       "      <td>3</td>\n",
       "      <td>0</td>\n",
       "      <td>Gourmet Burger Seasoning</td>\n",
       "      <td>104</td>\n",
       "      <td>13</td>\n",
       "    </tr>\n",
       "    <tr>\n",
       "      <th>32434485</th>\n",
       "      <td>3361945</td>\n",
       "      <td>43492</td>\n",
       "      <td>19</td>\n",
       "      <td>0</td>\n",
       "      <td>Gourmet Burger Seasoning</td>\n",
       "      <td>104</td>\n",
       "      <td>13</td>\n",
       "    </tr>\n",
       "    <tr>\n",
       "      <th>32434486</th>\n",
       "      <td>3267201</td>\n",
       "      <td>33097</td>\n",
       "      <td>2</td>\n",
       "      <td>0</td>\n",
       "      <td>Piquillo &amp; Jalapeno Bruschetta</td>\n",
       "      <td>81</td>\n",
       "      <td>15</td>\n",
       "    </tr>\n",
       "    <tr>\n",
       "      <th>32434487</th>\n",
       "      <td>3393151</td>\n",
       "      <td>38977</td>\n",
       "      <td>32</td>\n",
       "      <td>0</td>\n",
       "      <td>Original Jerky</td>\n",
       "      <td>100</td>\n",
       "      <td>21</td>\n",
       "    </tr>\n",
       "    <tr>\n",
       "      <th>32434488</th>\n",
       "      <td>3400803</td>\n",
       "      <td>23624</td>\n",
       "      <td>7</td>\n",
       "      <td>0</td>\n",
       "      <td>Flatbread Pizza All Natural</td>\n",
       "      <td>79</td>\n",
       "      <td>1</td>\n",
       "    </tr>\n",
       "  </tbody>\n",
       "</table>\n",
       "<p>32434489 rows × 7 columns</p>\n",
       "</div>"
      ],
      "text/plain": [
       "          order_id  product_id  add_to_cart_order  reordered  \\\n",
       "0                2       33120                  1          1   \n",
       "1               26       33120                  5          0   \n",
       "2              120       33120                 13          0   \n",
       "3              327       33120                  5          1   \n",
       "4              390       33120                 28          1   \n",
       "...            ...         ...                ...        ...   \n",
       "32434484   3265099       43492                  3          0   \n",
       "32434485   3361945       43492                 19          0   \n",
       "32434486   3267201       33097                  2          0   \n",
       "32434487   3393151       38977                 32          0   \n",
       "32434488   3400803       23624                  7          0   \n",
       "\n",
       "                            product_name  aisle_id  department_id  \n",
       "0                     Organic Egg Whites        86             16  \n",
       "1                     Organic Egg Whites        86             16  \n",
       "2                     Organic Egg Whites        86             16  \n",
       "3                     Organic Egg Whites        86             16  \n",
       "4                     Organic Egg Whites        86             16  \n",
       "...                                  ...       ...            ...  \n",
       "32434484        Gourmet Burger Seasoning       104             13  \n",
       "32434485        Gourmet Burger Seasoning       104             13  \n",
       "32434486  Piquillo & Jalapeno Bruschetta        81             15  \n",
       "32434487                  Original Jerky       100             21  \n",
       "32434488     Flatbread Pizza All Natural        79              1  \n",
       "\n",
       "[32434489 rows x 7 columns]"
      ]
     },
     "execution_count": 57,
     "metadata": {},
     "output_type": "execute_result"
    }
   ],
   "source": [
    "prior_orders_merge"
   ]
  },
  {
   "cell_type": "code",
   "execution_count": 83,
   "metadata": {},
   "outputs": [
    {
     "name": "stderr",
     "output_type": "stream",
     "text": [
      "/home/jessicabao/miniconda3/envs/py37/lib/python3.7/site-packages/ipykernel_launcher.py:5: SettingWithCopyWarning: \n",
      "A value is trying to be set on a copy of a slice from a DataFrame\n",
      "\n",
      "See the caveats in the documentation: http://pandas.pydata.org/pandas-docs/stable/user_guide/indexing.html#returning-a-view-versus-a-copy\n",
      "  \"\"\"\n"
     ]
    }
   ],
   "source": [
    "#create dictionary of product_id and product_name\n",
    "prior_subset = prior_orders_merge[[\"product_id\", \"product_name\"]]\n",
    "\n",
    "# remove duplicates\n",
    "prior_subset.drop_duplicates(inplace=True, subset='product_id', keep=\"last\")\n",
    "\n",
    "# create product-ID and product-description dictionary\n",
    "prior_dict = prior_subset.groupby('product_id')['product_name'].apply(list).to_dict()"
   ]
  },
  {
   "cell_type": "code",
   "execution_count": 58,
   "metadata": {},
   "outputs": [],
   "source": [
    "#grab a list of the product_ids from prior_orders_merge to run through the model\n",
    "prior_id_list = prior_orders_merge[\"product_id\"].astype(str)\n",
    "prior_id_list = prior_id_list.tolist()"
   ]
  },
  {
   "cell_type": "code",
   "execution_count": 59,
   "metadata": {},
   "outputs": [
    {
     "name": "stderr",
     "output_type": "stream",
     "text": [
      "/home/jessicabao/miniconda3/envs/py37/lib/python3.7/site-packages/ipykernel_launcher.py:8: DeprecationWarning: Call to deprecated `__getitem__` (Method will be removed in 4.0.0, use self.wv.__getitem__() instead).\n",
      "  \n",
      "/home/jessicabao/miniconda3/envs/py37/lib/python3.7/site-packages/ipykernel_launcher.py:8: DeprecationWarning: Call to deprecated `similar_by_vector` (Method will be removed in 4.0.0, use self.wv.similar_by_vector() instead).\n",
      "  \n"
     ]
    }
   ],
   "source": [
    "#test getting recommendations for a given product_id\n",
    "recs = []\n",
    "    \n",
    "for i in range(10):\n",
    "    x = model.similar_by_vector(model[prior_id_list[i]])\n",
    "    recs.append(x)"
   ]
  },
  {
   "cell_type": "code",
   "execution_count": 60,
   "metadata": {},
   "outputs": [
    {
     "data": {
      "text/plain": [
       "[[('33120', 1.0),\n",
       "  ('49075', 0.8533203601837158),\n",
       "  ('21903', 0.8250486850738525),\n",
       "  ('35951', 0.8193305730819702),\n",
       "  ('47492', 0.8179366588592529),\n",
       "  ('44910', 0.8174424171447754),\n",
       "  ('14084', 0.8144721984863281),\n",
       "  ('10017', 0.8106119632720947),\n",
       "  ('26800', 0.8058986663818359),\n",
       "  ('28289', 0.8032686710357666)],\n",
       " [('33120', 1.0),\n",
       "  ('49075', 0.8533203601837158),\n",
       "  ('21903', 0.8250486850738525),\n",
       "  ('35951', 0.8193305730819702),\n",
       "  ('47492', 0.8179366588592529),\n",
       "  ('44910', 0.8174424171447754),\n",
       "  ('14084', 0.8144721984863281),\n",
       "  ('10017', 0.8106119632720947),\n",
       "  ('26800', 0.8058986663818359),\n",
       "  ('28289', 0.8032686710357666)]]"
      ]
     },
     "execution_count": 60,
     "metadata": {},
     "output_type": "execute_result"
    }
   ],
   "source": [
    "#look at first two items in the recs dictionary\n",
    "list(recs)[:2]"
   ]
  },
  {
   "cell_type": "markdown",
   "metadata": {},
   "source": [
    "## Validating the model"
   ]
  },
  {
   "cell_type": "code",
   "execution_count": 22,
   "metadata": {},
   "outputs": [],
   "source": [
    "#read in the test set\n",
    "import pandas as pd\n",
    "import numpy as np\n",
    "\n",
    "test_orders = pd.read_csv('Instacart Data/order_products__train.csv')"
   ]
  },
  {
   "cell_type": "code",
   "execution_count": 23,
   "metadata": {},
   "outputs": [
    {
     "data": {
      "text/html": [
       "<div>\n",
       "<style scoped>\n",
       "    .dataframe tbody tr th:only-of-type {\n",
       "        vertical-align: middle;\n",
       "    }\n",
       "\n",
       "    .dataframe tbody tr th {\n",
       "        vertical-align: top;\n",
       "    }\n",
       "\n",
       "    .dataframe thead th {\n",
       "        text-align: right;\n",
       "    }\n",
       "</style>\n",
       "<table border=\"1\" class=\"dataframe\">\n",
       "  <thead>\n",
       "    <tr style=\"text-align: right;\">\n",
       "      <th></th>\n",
       "      <th>order_id</th>\n",
       "      <th>product_id</th>\n",
       "      <th>add_to_cart_order</th>\n",
       "      <th>reordered</th>\n",
       "    </tr>\n",
       "  </thead>\n",
       "  <tbody>\n",
       "    <tr>\n",
       "      <th>0</th>\n",
       "      <td>1</td>\n",
       "      <td>49302</td>\n",
       "      <td>1</td>\n",
       "      <td>1</td>\n",
       "    </tr>\n",
       "    <tr>\n",
       "      <th>1</th>\n",
       "      <td>1</td>\n",
       "      <td>11109</td>\n",
       "      <td>2</td>\n",
       "      <td>1</td>\n",
       "    </tr>\n",
       "    <tr>\n",
       "      <th>2</th>\n",
       "      <td>1</td>\n",
       "      <td>10246</td>\n",
       "      <td>3</td>\n",
       "      <td>0</td>\n",
       "    </tr>\n",
       "    <tr>\n",
       "      <th>3</th>\n",
       "      <td>1</td>\n",
       "      <td>49683</td>\n",
       "      <td>4</td>\n",
       "      <td>0</td>\n",
       "    </tr>\n",
       "    <tr>\n",
       "      <th>4</th>\n",
       "      <td>1</td>\n",
       "      <td>43633</td>\n",
       "      <td>5</td>\n",
       "      <td>1</td>\n",
       "    </tr>\n",
       "    <tr>\n",
       "      <th>...</th>\n",
       "      <td>...</td>\n",
       "      <td>...</td>\n",
       "      <td>...</td>\n",
       "      <td>...</td>\n",
       "    </tr>\n",
       "    <tr>\n",
       "      <th>1384612</th>\n",
       "      <td>3421063</td>\n",
       "      <td>14233</td>\n",
       "      <td>3</td>\n",
       "      <td>1</td>\n",
       "    </tr>\n",
       "    <tr>\n",
       "      <th>1384613</th>\n",
       "      <td>3421063</td>\n",
       "      <td>35548</td>\n",
       "      <td>4</td>\n",
       "      <td>1</td>\n",
       "    </tr>\n",
       "    <tr>\n",
       "      <th>1384614</th>\n",
       "      <td>3421070</td>\n",
       "      <td>35951</td>\n",
       "      <td>1</td>\n",
       "      <td>1</td>\n",
       "    </tr>\n",
       "    <tr>\n",
       "      <th>1384615</th>\n",
       "      <td>3421070</td>\n",
       "      <td>16953</td>\n",
       "      <td>2</td>\n",
       "      <td>1</td>\n",
       "    </tr>\n",
       "    <tr>\n",
       "      <th>1384616</th>\n",
       "      <td>3421070</td>\n",
       "      <td>4724</td>\n",
       "      <td>3</td>\n",
       "      <td>1</td>\n",
       "    </tr>\n",
       "  </tbody>\n",
       "</table>\n",
       "<p>1384617 rows × 4 columns</p>\n",
       "</div>"
      ],
      "text/plain": [
       "         order_id  product_id  add_to_cart_order  reordered\n",
       "0               1       49302                  1          1\n",
       "1               1       11109                  2          1\n",
       "2               1       10246                  3          0\n",
       "3               1       49683                  4          0\n",
       "4               1       43633                  5          1\n",
       "...           ...         ...                ...        ...\n",
       "1384612   3421063       14233                  3          1\n",
       "1384613   3421063       35548                  4          1\n",
       "1384614   3421070       35951                  1          1\n",
       "1384615   3421070       16953                  2          1\n",
       "1384616   3421070        4724                  3          1\n",
       "\n",
       "[1384617 rows x 4 columns]"
      ]
     },
     "execution_count": 23,
     "metadata": {},
     "output_type": "execute_result"
    }
   ],
   "source": [
    "test_orders"
   ]
  },
  {
   "cell_type": "code",
   "execution_count": 24,
   "metadata": {},
   "outputs": [
    {
     "data": {
      "text/html": [
       "<div>\n",
       "<style scoped>\n",
       "    .dataframe tbody tr th:only-of-type {\n",
       "        vertical-align: middle;\n",
       "    }\n",
       "\n",
       "    .dataframe tbody tr th {\n",
       "        vertical-align: top;\n",
       "    }\n",
       "\n",
       "    .dataframe thead th {\n",
       "        text-align: right;\n",
       "    }\n",
       "</style>\n",
       "<table border=\"1\" class=\"dataframe\">\n",
       "  <thead>\n",
       "    <tr style=\"text-align: right;\">\n",
       "      <th></th>\n",
       "      <th>order_id</th>\n",
       "      <th>product_id</th>\n",
       "      <th>add_to_cart_order</th>\n",
       "      <th>reordered</th>\n",
       "    </tr>\n",
       "  </thead>\n",
       "  <tbody>\n",
       "    <tr>\n",
       "      <th>0</th>\n",
       "      <td>1</td>\n",
       "      <td>49302</td>\n",
       "      <td>1</td>\n",
       "      <td>1</td>\n",
       "    </tr>\n",
       "    <tr>\n",
       "      <th>1</th>\n",
       "      <td>1</td>\n",
       "      <td>11109</td>\n",
       "      <td>2</td>\n",
       "      <td>1</td>\n",
       "    </tr>\n",
       "    <tr>\n",
       "      <th>2</th>\n",
       "      <td>1</td>\n",
       "      <td>10246</td>\n",
       "      <td>3</td>\n",
       "      <td>0</td>\n",
       "    </tr>\n",
       "    <tr>\n",
       "      <th>3</th>\n",
       "      <td>1</td>\n",
       "      <td>49683</td>\n",
       "      <td>4</td>\n",
       "      <td>0</td>\n",
       "    </tr>\n",
       "    <tr>\n",
       "      <th>4</th>\n",
       "      <td>1</td>\n",
       "      <td>43633</td>\n",
       "      <td>5</td>\n",
       "      <td>1</td>\n",
       "    </tr>\n",
       "    <tr>\n",
       "      <th>5</th>\n",
       "      <td>1</td>\n",
       "      <td>13176</td>\n",
       "      <td>6</td>\n",
       "      <td>0</td>\n",
       "    </tr>\n",
       "    <tr>\n",
       "      <th>6</th>\n",
       "      <td>1</td>\n",
       "      <td>47209</td>\n",
       "      <td>7</td>\n",
       "      <td>0</td>\n",
       "    </tr>\n",
       "    <tr>\n",
       "      <th>7</th>\n",
       "      <td>1</td>\n",
       "      <td>22035</td>\n",
       "      <td>8</td>\n",
       "      <td>1</td>\n",
       "    </tr>\n",
       "  </tbody>\n",
       "</table>\n",
       "</div>"
      ],
      "text/plain": [
       "   order_id  product_id  add_to_cart_order  reordered\n",
       "0         1       49302                  1          1\n",
       "1         1       11109                  2          1\n",
       "2         1       10246                  3          0\n",
       "3         1       49683                  4          0\n",
       "4         1       43633                  5          1\n",
       "5         1       13176                  6          0\n",
       "6         1       47209                  7          0\n",
       "7         1       22035                  8          1"
      ]
     },
     "execution_count": 24,
     "metadata": {},
     "output_type": "execute_result"
    }
   ],
   "source": [
    "#show all rows for order_id 1\n",
    "test_orders.loc[test_orders[\"order_id\"] == 1]"
   ]
  },
  {
   "cell_type": "code",
   "execution_count": 25,
   "metadata": {},
   "outputs": [
    {
     "ename": "NameError",
     "evalue": "name 'prior_dict' is not defined",
     "output_type": "error",
     "traceback": [
      "\u001b[0;31m---------------------------------------------------------------------------\u001b[0m",
      "\u001b[0;31mNameError\u001b[0m                                 Traceback (most recent call last)",
      "\u001b[0;32m<ipython-input-25-9005b268c555>\u001b[0m in \u001b[0;36m<module>\u001b[0;34m\u001b[0m\n\u001b[0;32m----> 1\u001b[0;31m \u001b[0mprint\u001b[0m\u001b[0;34m(\u001b[0m\u001b[0mprior_dict\u001b[0m\u001b[0;34m[\u001b[0m\u001b[0;36m49302\u001b[0m\u001b[0;34m]\u001b[0m\u001b[0;34m)\u001b[0m\u001b[0;34m\u001b[0m\u001b[0;34m\u001b[0m\u001b[0m\n\u001b[0m\u001b[1;32m      2\u001b[0m \u001b[0mprint\u001b[0m\u001b[0;34m(\u001b[0m\u001b[0mprior_dict\u001b[0m\u001b[0;34m[\u001b[0m\u001b[0;36m11109\u001b[0m\u001b[0;34m]\u001b[0m\u001b[0;34m)\u001b[0m\u001b[0;34m\u001b[0m\u001b[0;34m\u001b[0m\u001b[0m\n\u001b[1;32m      3\u001b[0m \u001b[0mprint\u001b[0m\u001b[0;34m(\u001b[0m\u001b[0mprior_dict\u001b[0m\u001b[0;34m[\u001b[0m\u001b[0;36m10246\u001b[0m\u001b[0;34m]\u001b[0m\u001b[0;34m)\u001b[0m\u001b[0;34m\u001b[0m\u001b[0;34m\u001b[0m\u001b[0m\n\u001b[1;32m      4\u001b[0m \u001b[0mprint\u001b[0m\u001b[0;34m(\u001b[0m\u001b[0mprior_dict\u001b[0m\u001b[0;34m[\u001b[0m\u001b[0;36m49683\u001b[0m\u001b[0;34m]\u001b[0m\u001b[0;34m)\u001b[0m\u001b[0;34m\u001b[0m\u001b[0;34m\u001b[0m\u001b[0m\n\u001b[1;32m      5\u001b[0m \u001b[0mprint\u001b[0m\u001b[0;34m(\u001b[0m\u001b[0mprior_dict\u001b[0m\u001b[0;34m[\u001b[0m\u001b[0;36m43644\u001b[0m\u001b[0;34m]\u001b[0m\u001b[0;34m)\u001b[0m\u001b[0;34m\u001b[0m\u001b[0;34m\u001b[0m\u001b[0m\n",
      "\u001b[0;31mNameError\u001b[0m: name 'prior_dict' is not defined"
     ]
    }
   ],
   "source": [
    "print(prior_dict[49302])\n",
    "print(prior_dict[11109])\n",
    "print(prior_dict[10246])\n",
    "print(prior_dict[49683])\n",
    "print(prior_dict[43644])\n",
    "print(prior_dict[13176])\n",
    "print(prior_dict[47209])\n",
    "print(prior_dict[22035])"
   ]
  },
  {
   "cell_type": "code",
   "execution_count": 53,
   "metadata": {},
   "outputs": [],
   "source": [
    "#drop last row of each order_id to create the dataset to make recommendations from\n",
    "test_orders_train = test_orders.groupby(\"order_id\", as_index=False).apply(lambda x: x.iloc[:-1])"
   ]
  },
  {
   "cell_type": "code",
   "execution_count": 54,
   "metadata": {},
   "outputs": [
    {
     "data": {
      "text/html": [
       "<div>\n",
       "<style scoped>\n",
       "    .dataframe tbody tr th:only-of-type {\n",
       "        vertical-align: middle;\n",
       "    }\n",
       "\n",
       "    .dataframe tbody tr th {\n",
       "        vertical-align: top;\n",
       "    }\n",
       "\n",
       "    .dataframe thead th {\n",
       "        text-align: right;\n",
       "    }\n",
       "</style>\n",
       "<table border=\"1\" class=\"dataframe\">\n",
       "  <thead>\n",
       "    <tr style=\"text-align: right;\">\n",
       "      <th></th>\n",
       "      <th></th>\n",
       "      <th>order_id</th>\n",
       "      <th>product_id</th>\n",
       "      <th>add_to_cart_order</th>\n",
       "      <th>reordered</th>\n",
       "    </tr>\n",
       "  </thead>\n",
       "  <tbody>\n",
       "    <tr>\n",
       "      <th rowspan=\"7\" valign=\"top\">0</th>\n",
       "      <th>0</th>\n",
       "      <td>1</td>\n",
       "      <td>49302</td>\n",
       "      <td>1</td>\n",
       "      <td>1</td>\n",
       "    </tr>\n",
       "    <tr>\n",
       "      <th>1</th>\n",
       "      <td>1</td>\n",
       "      <td>11109</td>\n",
       "      <td>2</td>\n",
       "      <td>1</td>\n",
       "    </tr>\n",
       "    <tr>\n",
       "      <th>2</th>\n",
       "      <td>1</td>\n",
       "      <td>10246</td>\n",
       "      <td>3</td>\n",
       "      <td>0</td>\n",
       "    </tr>\n",
       "    <tr>\n",
       "      <th>3</th>\n",
       "      <td>1</td>\n",
       "      <td>49683</td>\n",
       "      <td>4</td>\n",
       "      <td>0</td>\n",
       "    </tr>\n",
       "    <tr>\n",
       "      <th>4</th>\n",
       "      <td>1</td>\n",
       "      <td>43633</td>\n",
       "      <td>5</td>\n",
       "      <td>1</td>\n",
       "    </tr>\n",
       "    <tr>\n",
       "      <th>5</th>\n",
       "      <td>1</td>\n",
       "      <td>13176</td>\n",
       "      <td>6</td>\n",
       "      <td>0</td>\n",
       "    </tr>\n",
       "    <tr>\n",
       "      <th>6</th>\n",
       "      <td>1</td>\n",
       "      <td>47209</td>\n",
       "      <td>7</td>\n",
       "      <td>0</td>\n",
       "    </tr>\n",
       "  </tbody>\n",
       "</table>\n",
       "</div>"
      ],
      "text/plain": [
       "     order_id  product_id  add_to_cart_order  reordered\n",
       "0 0         1       49302                  1          1\n",
       "  1         1       11109                  2          1\n",
       "  2         1       10246                  3          0\n",
       "  3         1       49683                  4          0\n",
       "  4         1       43633                  5          1\n",
       "  5         1       13176                  6          0\n",
       "  6         1       47209                  7          0"
      ]
     },
     "execution_count": 54,
     "metadata": {},
     "output_type": "execute_result"
    }
   ],
   "source": [
    "#confirm the last row of order_id 1 is dropped\n",
    "test_orders_train.loc[test_orders_train[\"order_id\"] == 1]"
   ]
  },
  {
   "cell_type": "code",
   "execution_count": 55,
   "metadata": {},
   "outputs": [],
   "source": [
    "#take last row of each order_id to create the dataset to compare recommendations to\n",
    "test_orders_test = test_orders.groupby(\"order_id\").tail(1)"
   ]
  },
  {
   "cell_type": "code",
   "execution_count": 56,
   "metadata": {},
   "outputs": [
    {
     "name": "stdout",
     "output_type": "stream",
     "text": [
      "124364\n",
      "131209\n"
     ]
    }
   ],
   "source": [
    "print(test_orders_train[\"order_id\"].nunique())\n",
    "print(test_orders_test[\"order_id\"].nunique())"
   ]
  },
  {
   "cell_type": "code",
   "execution_count": 57,
   "metadata": {},
   "outputs": [],
   "source": [
    "#create sentences from the test_orders_train dataset\n",
    "test_orders_train[\"product_id\"] = test_orders_train[\"product_id\"].astype(str) \n",
    "sentences_train = test_orders_train.groupby(\"order_id\").apply(lambda order: order['product_id'].tolist())"
   ]
  },
  {
   "cell_type": "code",
   "execution_count": 59,
   "metadata": {},
   "outputs": [
    {
     "data": {
      "text/plain": [
       "order_id\n",
       "1          [49302, 11109, 10246, 49683, 43633, 13176, 47209]\n",
       "36         [39612, 19660, 49235, 43086, 46620, 34497, 48679]\n",
       "38         [11913, 18159, 4461, 21616, 23622, 32433, 2884...\n",
       "96                [20574, 30391, 40706, 25610, 27966, 24489]\n",
       "98         [8859, 19731, 43654, 13176, 4357, 37664, 34065...\n",
       "                                 ...                        \n",
       "3421049                  [40800, 17706, 33424, 17299, 26800]\n",
       "3421056                           [5750, 9340, 21709, 16475]\n",
       "3421058       [15629, 4347, 34466, 6244, 6858, 30316, 35578]\n",
       "3421063                                [49235, 13565, 14233]\n",
       "3421070                                       [35951, 16953]\n",
       "Length: 124364, dtype: object"
      ]
     },
     "execution_count": 59,
     "metadata": {},
     "output_type": "execute_result"
    }
   ],
   "source": [
    "sentences_train"
   ]
  },
  {
   "cell_type": "code",
   "execution_count": 60,
   "metadata": {},
   "outputs": [],
   "source": [
    "#check to see which product ids are not in the word2vec model\n",
    "\n",
    "#get a list of all the unique product ids in the test_orders_train dataframe\n",
    "temp1 = test_orders_train[\"product_id\"].unique()"
   ]
  },
  {
   "cell_type": "code",
   "execution_count": 61,
   "metadata": {},
   "outputs": [],
   "source": [
    "#convert the model into vectors\n",
    "word_vectors = model.wv"
   ]
  },
  {
   "cell_type": "code",
   "execution_count": 62,
   "metadata": {},
   "outputs": [],
   "source": [
    "#check if the product ids are in the vocabulary\n",
    "\n",
    "check = []\n",
    "\n",
    "for word in temp1:\n",
    "    x = word in word_vectors.vocab\n",
    "    check.append([word, x])"
   ]
  },
  {
   "cell_type": "code",
   "execution_count": 63,
   "metadata": {},
   "outputs": [],
   "source": [
    "#convert the list to a dataframe\n",
    "check = pd.DataFrame(check)"
   ]
  },
  {
   "cell_type": "code",
   "execution_count": 64,
   "metadata": {},
   "outputs": [
    {
     "data": {
      "text/html": [
       "<div>\n",
       "<style scoped>\n",
       "    .dataframe tbody tr th:only-of-type {\n",
       "        vertical-align: middle;\n",
       "    }\n",
       "\n",
       "    .dataframe tbody tr th {\n",
       "        vertical-align: top;\n",
       "    }\n",
       "\n",
       "    .dataframe thead th {\n",
       "        text-align: right;\n",
       "    }\n",
       "</style>\n",
       "<table border=\"1\" class=\"dataframe\">\n",
       "  <thead>\n",
       "    <tr style=\"text-align: right;\">\n",
       "      <th></th>\n",
       "      <th>0</th>\n",
       "      <th>1</th>\n",
       "    </tr>\n",
       "  </thead>\n",
       "  <tbody>\n",
       "    <tr>\n",
       "      <th>293</th>\n",
       "      <td>25042</td>\n",
       "      <td>False</td>\n",
       "    </tr>\n",
       "    <tr>\n",
       "      <th>525</th>\n",
       "      <td>44469</td>\n",
       "      <td>False</td>\n",
       "    </tr>\n",
       "    <tr>\n",
       "      <th>868</th>\n",
       "      <td>21494</td>\n",
       "      <td>False</td>\n",
       "    </tr>\n",
       "    <tr>\n",
       "      <th>870</th>\n",
       "      <td>19490</td>\n",
       "      <td>False</td>\n",
       "    </tr>\n",
       "    <tr>\n",
       "      <th>871</th>\n",
       "      <td>11061</td>\n",
       "      <td>False</td>\n",
       "    </tr>\n",
       "    <tr>\n",
       "      <th>...</th>\n",
       "      <td>...</td>\n",
       "      <td>...</td>\n",
       "    </tr>\n",
       "    <tr>\n",
       "      <th>37951</th>\n",
       "      <td>30800</td>\n",
       "      <td>False</td>\n",
       "    </tr>\n",
       "    <tr>\n",
       "      <th>37964</th>\n",
       "      <td>39701</td>\n",
       "      <td>False</td>\n",
       "    </tr>\n",
       "    <tr>\n",
       "      <th>37965</th>\n",
       "      <td>13738</td>\n",
       "      <td>False</td>\n",
       "    </tr>\n",
       "    <tr>\n",
       "      <th>37972</th>\n",
       "      <td>1528</td>\n",
       "      <td>False</td>\n",
       "    </tr>\n",
       "    <tr>\n",
       "      <th>37974</th>\n",
       "      <td>9491</td>\n",
       "      <td>False</td>\n",
       "    </tr>\n",
       "  </tbody>\n",
       "</table>\n",
       "<p>2151 rows × 2 columns</p>\n",
       "</div>"
      ],
      "text/plain": [
       "           0      1\n",
       "293    25042  False\n",
       "525    44469  False\n",
       "868    21494  False\n",
       "870    19490  False\n",
       "871    11061  False\n",
       "...      ...    ...\n",
       "37951  30800  False\n",
       "37964  39701  False\n",
       "37965  13738  False\n",
       "37972   1528  False\n",
       "37974   9491  False\n",
       "\n",
       "[2151 rows x 2 columns]"
      ]
     },
     "execution_count": 64,
     "metadata": {},
     "output_type": "execute_result"
    }
   ],
   "source": [
    "#return rows where the result was false\n",
    "check[check[1] == False]"
   ]
  },
  {
   "cell_type": "markdown",
   "metadata": {},
   "source": [
    "Because the model was trained on the orders in the prior_order data, if a product is in the train_order dataset but not in the prior_order dataset, the model will not be able to use it to make a prediction. As such, we are using only the orders that have products in the prior_order dataset."
   ]
  },
  {
   "cell_type": "code",
   "execution_count": 65,
   "metadata": {},
   "outputs": [],
   "source": [
    "#rename column names in the check dataframe for merging\n",
    "check = check.rename(columns={0: 'product_id', 1: 'exists'})"
   ]
  },
  {
   "cell_type": "code",
   "execution_count": 66,
   "metadata": {},
   "outputs": [],
   "source": [
    "#create new dataframe that indicates whether or not product ids exist\n",
    "temp_test_orders_train = pd.merge(test_orders_train, check, on='product_id')"
   ]
  },
  {
   "cell_type": "code",
   "execution_count": 67,
   "metadata": {},
   "outputs": [],
   "source": [
    "#create new dataframe to have only product ids that exist\n",
    "temp_test_orders_train_exists = temp_test_orders_train[temp_test_orders_train['exists'] == True]"
   ]
  },
  {
   "cell_type": "code",
   "execution_count": 68,
   "metadata": {},
   "outputs": [
    {
     "data": {
      "text/html": [
       "<div>\n",
       "<style scoped>\n",
       "    .dataframe tbody tr th:only-of-type {\n",
       "        vertical-align: middle;\n",
       "    }\n",
       "\n",
       "    .dataframe tbody tr th {\n",
       "        vertical-align: top;\n",
       "    }\n",
       "\n",
       "    .dataframe thead th {\n",
       "        text-align: right;\n",
       "    }\n",
       "</style>\n",
       "<table border=\"1\" class=\"dataframe\">\n",
       "  <thead>\n",
       "    <tr style=\"text-align: right;\">\n",
       "      <th></th>\n",
       "      <th>order_id</th>\n",
       "      <th>product_id</th>\n",
       "      <th>add_to_cart_order</th>\n",
       "      <th>reordered</th>\n",
       "      <th>exists</th>\n",
       "    </tr>\n",
       "  </thead>\n",
       "  <tbody>\n",
       "    <tr>\n",
       "      <th>0</th>\n",
       "      <td>1</td>\n",
       "      <td>49302</td>\n",
       "      <td>1</td>\n",
       "      <td>1</td>\n",
       "      <td>True</td>\n",
       "    </tr>\n",
       "    <tr>\n",
       "      <th>1</th>\n",
       "      <td>816049</td>\n",
       "      <td>49302</td>\n",
       "      <td>7</td>\n",
       "      <td>1</td>\n",
       "      <td>True</td>\n",
       "    </tr>\n",
       "    <tr>\n",
       "      <th>2</th>\n",
       "      <td>1242203</td>\n",
       "      <td>49302</td>\n",
       "      <td>1</td>\n",
       "      <td>1</td>\n",
       "      <td>True</td>\n",
       "    </tr>\n",
       "    <tr>\n",
       "      <th>3</th>\n",
       "      <td>1383349</td>\n",
       "      <td>49302</td>\n",
       "      <td>11</td>\n",
       "      <td>1</td>\n",
       "      <td>True</td>\n",
       "    </tr>\n",
       "    <tr>\n",
       "      <th>4</th>\n",
       "      <td>2445303</td>\n",
       "      <td>49302</td>\n",
       "      <td>2</td>\n",
       "      <td>1</td>\n",
       "      <td>True</td>\n",
       "    </tr>\n",
       "    <tr>\n",
       "      <th>...</th>\n",
       "      <td>...</td>\n",
       "      <td>...</td>\n",
       "      <td>...</td>\n",
       "      <td>...</td>\n",
       "      <td>...</td>\n",
       "    </tr>\n",
       "    <tr>\n",
       "      <th>1253401</th>\n",
       "      <td>3419806</td>\n",
       "      <td>16297</td>\n",
       "      <td>12</td>\n",
       "      <td>0</td>\n",
       "      <td>True</td>\n",
       "    </tr>\n",
       "    <tr>\n",
       "      <th>1253402</th>\n",
       "      <td>3420011</td>\n",
       "      <td>27645</td>\n",
       "      <td>3</td>\n",
       "      <td>0</td>\n",
       "      <td>True</td>\n",
       "    </tr>\n",
       "    <tr>\n",
       "      <th>1253403</th>\n",
       "      <td>3420011</td>\n",
       "      <td>25275</td>\n",
       "      <td>6</td>\n",
       "      <td>0</td>\n",
       "      <td>True</td>\n",
       "    </tr>\n",
       "    <tr>\n",
       "      <th>1253405</th>\n",
       "      <td>3420084</td>\n",
       "      <td>47935</td>\n",
       "      <td>20</td>\n",
       "      <td>0</td>\n",
       "      <td>True</td>\n",
       "    </tr>\n",
       "    <tr>\n",
       "      <th>1253407</th>\n",
       "      <td>3420895</td>\n",
       "      <td>38900</td>\n",
       "      <td>9</td>\n",
       "      <td>1</td>\n",
       "      <td>True</td>\n",
       "    </tr>\n",
       "  </tbody>\n",
       "</table>\n",
       "<p>1250681 rows × 5 columns</p>\n",
       "</div>"
      ],
      "text/plain": [
       "         order_id product_id  add_to_cart_order  reordered  exists\n",
       "0               1      49302                  1          1    True\n",
       "1          816049      49302                  7          1    True\n",
       "2         1242203      49302                  1          1    True\n",
       "3         1383349      49302                 11          1    True\n",
       "4         2445303      49302                  2          1    True\n",
       "...           ...        ...                ...        ...     ...\n",
       "1253401   3419806      16297                 12          0    True\n",
       "1253402   3420011      27645                  3          0    True\n",
       "1253403   3420011      25275                  6          0    True\n",
       "1253405   3420084      47935                 20          0    True\n",
       "1253407   3420895      38900                  9          1    True\n",
       "\n",
       "[1250681 rows x 5 columns]"
      ]
     },
     "execution_count": 68,
     "metadata": {},
     "output_type": "execute_result"
    }
   ],
   "source": [
    "temp_test_orders_train_exists"
   ]
  },
  {
   "cell_type": "code",
   "execution_count": 69,
   "metadata": {},
   "outputs": [],
   "source": [
    "#get sentences (where a sentence is all of the products in one order)\n",
    "sentences_train_true = temp_test_orders_train_exists.groupby(\"order_id\").apply(lambda order: order['product_id'].tolist())\n",
    "longest = np.max(sentences_train_true.apply(len))"
   ]
  },
  {
   "cell_type": "code",
   "execution_count": 70,
   "metadata": {},
   "outputs": [
    {
     "name": "stderr",
     "output_type": "stream",
     "text": [
      "/home/jessicabao/miniconda3/envs/py37/lib/python3.7/site-packages/ipykernel_launcher.py:5: DeprecationWarning: Call to deprecated `__getitem__` (Method will be removed in 4.0.0, use self.wv.__getitem__() instead).\n",
      "  \"\"\"\n"
     ]
    }
   ],
   "source": [
    "#get the average of the vectors (per order) that result from putting each id through the model\n",
    "sentences_train_single_temp = []\n",
    "\n",
    "for i in range(0,len(sentences_train_true)):\n",
    "    x = np.mean(model[sentences_train_true.iloc[i]], axis=0)\n",
    "    sentences_train_single_temp.append(x)"
   ]
  },
  {
   "cell_type": "code",
   "execution_count": 71,
   "metadata": {},
   "outputs": [
    {
     "name": "stderr",
     "output_type": "stream",
     "text": [
      "/home/jessicabao/miniconda3/envs/py37/lib/python3.7/site-packages/ipykernel_launcher.py:5: DeprecationWarning: Call to deprecated `similar_by_vector` (Method will be removed in 4.0.0, use self.wv.similar_by_vector() instead).\n",
      "  \"\"\"\n"
     ]
    }
   ],
   "source": [
    "#run the averaged vectors through the model to get the similar items\n",
    "predictions = []\n",
    "\n",
    "for i in range(0,len(sentences_train_single_temp)):\n",
    "    x = model.similar_by_vector(sentences_train_single_temp[i])\n",
    "    predictions.append(x)"
   ]
  },
  {
   "cell_type": "code",
   "execution_count": 72,
   "metadata": {},
   "outputs": [],
   "source": [
    "#get a list of all the unique order_ids in the test_order_train dataset to merge with the recommendations into a dataframe\n",
    "#test_order_ids = test_orders_train[\"order_id\"].unique()\n",
    "test_order_ids = temp_test_orders_train_exists[\"order_id\"].unique()"
   ]
  },
  {
   "cell_type": "code",
   "execution_count": 73,
   "metadata": {},
   "outputs": [
    {
     "data": {
      "text/html": [
       "<div>\n",
       "<style scoped>\n",
       "    .dataframe tbody tr th:only-of-type {\n",
       "        vertical-align: middle;\n",
       "    }\n",
       "\n",
       "    .dataframe tbody tr th {\n",
       "        vertical-align: top;\n",
       "    }\n",
       "\n",
       "    .dataframe thead th {\n",
       "        text-align: right;\n",
       "    }\n",
       "</style>\n",
       "<table border=\"1\" class=\"dataframe\">\n",
       "  <thead>\n",
       "    <tr style=\"text-align: right;\">\n",
       "      <th></th>\n",
       "      <th>0</th>\n",
       "      <th>1</th>\n",
       "      <th>2</th>\n",
       "      <th>3</th>\n",
       "      <th>4</th>\n",
       "      <th>5</th>\n",
       "      <th>6</th>\n",
       "      <th>7</th>\n",
       "      <th>8</th>\n",
       "      <th>9</th>\n",
       "      <th>...</th>\n",
       "      <th>124334</th>\n",
       "      <th>124335</th>\n",
       "      <th>124336</th>\n",
       "      <th>124337</th>\n",
       "      <th>124338</th>\n",
       "      <th>124339</th>\n",
       "      <th>124340</th>\n",
       "      <th>124341</th>\n",
       "      <th>124342</th>\n",
       "      <th>124343</th>\n",
       "    </tr>\n",
       "  </thead>\n",
       "  <tbody>\n",
       "    <tr>\n",
       "      <th>0</th>\n",
       "      <td>1</td>\n",
       "      <td>816049</td>\n",
       "      <td>1242203</td>\n",
       "      <td>1383349</td>\n",
       "      <td>2445303</td>\n",
       "      <td>2853065</td>\n",
       "      <td>3231517</td>\n",
       "      <td>68474</td>\n",
       "      <td>78197</td>\n",
       "      <td>120619</td>\n",
       "      <td>...</td>\n",
       "      <td>2997487</td>\n",
       "      <td>3001190</td>\n",
       "      <td>3028549</td>\n",
       "      <td>3056331</td>\n",
       "      <td>3058406</td>\n",
       "      <td>3068396</td>\n",
       "      <td>3071196</td>\n",
       "      <td>3083500</td>\n",
       "      <td>3164223</td>\n",
       "      <td>3265860</td>\n",
       "    </tr>\n",
       "    <tr>\n",
       "      <th>1</th>\n",
       "      <td>[(47209, 0.8747882843017578), (5689, 0.8572853...</td>\n",
       "      <td>[(15394, 0.8466124534606934), (25973, 0.837813...</td>\n",
       "      <td>[(47442, 0.8647209405899048), (35834, 0.851600...</td>\n",
       "      <td>[(30391, 0.8909130096435547), (47209, 0.889265...</td>\n",
       "      <td>[(18484, 0.8790232539176941), (39323, 0.878275...</td>\n",
       "      <td>[(19662, 0.8790140151977539), (45887, 0.878075...</td>\n",
       "      <td>[(13566, 0.8113827705383301), (2216, 0.8005803...</td>\n",
       "      <td>[(25340, 0.8372255563735962), (29941, 0.835289...</td>\n",
       "      <td>[(28843, 0.8810921311378479), (31566, 0.870059...</td>\n",
       "      <td>[(39323, 0.8296217918395996), (46682, 0.825236...</td>\n",
       "      <td>...</td>\n",
       "      <td>[(24852, 0.8562301397323608), (28204, 0.855785...</td>\n",
       "      <td>[(23965, 0.8498029112815857), (45054, 0.816126...</td>\n",
       "      <td>[(36155, 0.8201289176940918), (8277, 0.8135819...</td>\n",
       "      <td>[(28960, 0.8938568234443665), (47209, 0.891267...</td>\n",
       "      <td>[(491, 0.8059660792350769), (47442, 0.78764438...</td>\n",
       "      <td>[(26800, 0.8602944612503052), (19662, 0.853717...</td>\n",
       "      <td>[(16688, 0.7734615206718445), (47671, 0.773102...</td>\n",
       "      <td>[(3758, 0.8499077558517456), (2671, 0.84154421...</td>\n",
       "      <td>[(14233, 0.8343762159347534), (49235, 0.773744...</td>\n",
       "      <td>[(30450, 0.8238496780395508), (9745, 0.8214729...</td>\n",
       "    </tr>\n",
       "  </tbody>\n",
       "</table>\n",
       "<p>2 rows × 124344 columns</p>\n",
       "</div>"
      ],
      "text/plain": [
       "                                              0       \\\n",
       "0                                                  1   \n",
       "1  [(47209, 0.8747882843017578), (5689, 0.8572853...   \n",
       "\n",
       "                                              1       \\\n",
       "0                                             816049   \n",
       "1  [(15394, 0.8466124534606934), (25973, 0.837813...   \n",
       "\n",
       "                                              2       \\\n",
       "0                                            1242203   \n",
       "1  [(47442, 0.8647209405899048), (35834, 0.851600...   \n",
       "\n",
       "                                              3       \\\n",
       "0                                            1383349   \n",
       "1  [(30391, 0.8909130096435547), (47209, 0.889265...   \n",
       "\n",
       "                                              4       \\\n",
       "0                                            2445303   \n",
       "1  [(18484, 0.8790232539176941), (39323, 0.878275...   \n",
       "\n",
       "                                              5       \\\n",
       "0                                            2853065   \n",
       "1  [(19662, 0.8790140151977539), (45887, 0.878075...   \n",
       "\n",
       "                                              6       \\\n",
       "0                                            3231517   \n",
       "1  [(13566, 0.8113827705383301), (2216, 0.8005803...   \n",
       "\n",
       "                                              7       \\\n",
       "0                                              68474   \n",
       "1  [(25340, 0.8372255563735962), (29941, 0.835289...   \n",
       "\n",
       "                                              8       \\\n",
       "0                                              78197   \n",
       "1  [(28843, 0.8810921311378479), (31566, 0.870059...   \n",
       "\n",
       "                                              9       ...  \\\n",
       "0                                             120619  ...   \n",
       "1  [(39323, 0.8296217918395996), (46682, 0.825236...  ...   \n",
       "\n",
       "                                              124334  \\\n",
       "0                                            2997487   \n",
       "1  [(24852, 0.8562301397323608), (28204, 0.855785...   \n",
       "\n",
       "                                              124335  \\\n",
       "0                                            3001190   \n",
       "1  [(23965, 0.8498029112815857), (45054, 0.816126...   \n",
       "\n",
       "                                              124336  \\\n",
       "0                                            3028549   \n",
       "1  [(36155, 0.8201289176940918), (8277, 0.8135819...   \n",
       "\n",
       "                                              124337  \\\n",
       "0                                            3056331   \n",
       "1  [(28960, 0.8938568234443665), (47209, 0.891267...   \n",
       "\n",
       "                                              124338  \\\n",
       "0                                            3058406   \n",
       "1  [(491, 0.8059660792350769), (47442, 0.78764438...   \n",
       "\n",
       "                                              124339  \\\n",
       "0                                            3068396   \n",
       "1  [(26800, 0.8602944612503052), (19662, 0.853717...   \n",
       "\n",
       "                                              124340  \\\n",
       "0                                            3071196   \n",
       "1  [(16688, 0.7734615206718445), (47671, 0.773102...   \n",
       "\n",
       "                                              124341  \\\n",
       "0                                            3083500   \n",
       "1  [(3758, 0.8499077558517456), (2671, 0.84154421...   \n",
       "\n",
       "                                              124342  \\\n",
       "0                                            3164223   \n",
       "1  [(14233, 0.8343762159347534), (49235, 0.773744...   \n",
       "\n",
       "                                              124343  \n",
       "0                                            3265860  \n",
       "1  [(30450, 0.8238496780395508), (9745, 0.8214729...  \n",
       "\n",
       "[2 rows x 124344 columns]"
      ]
     },
     "execution_count": 73,
     "metadata": {},
     "output_type": "execute_result"
    }
   ],
   "source": [
    "#create a dataframe\n",
    "preds = (test_order_ids, predictions)\n",
    "preds = pd.DataFrame(preds)\n",
    "preds.head()"
   ]
  },
  {
   "cell_type": "code",
   "execution_count": 74,
   "metadata": {},
   "outputs": [
    {
     "data": {
      "text/html": [
       "<div>\n",
       "<style scoped>\n",
       "    .dataframe tbody tr th:only-of-type {\n",
       "        vertical-align: middle;\n",
       "    }\n",
       "\n",
       "    .dataframe tbody tr th {\n",
       "        vertical-align: top;\n",
       "    }\n",
       "\n",
       "    .dataframe thead th {\n",
       "        text-align: right;\n",
       "    }\n",
       "</style>\n",
       "<table border=\"1\" class=\"dataframe\">\n",
       "  <thead>\n",
       "    <tr style=\"text-align: right;\">\n",
       "      <th></th>\n",
       "      <th>0</th>\n",
       "      <th>1</th>\n",
       "    </tr>\n",
       "  </thead>\n",
       "  <tbody>\n",
       "    <tr>\n",
       "      <th>0</th>\n",
       "      <td>1</td>\n",
       "      <td>[(47209, 0.8747882843017578), (5689, 0.8572853...</td>\n",
       "    </tr>\n",
       "    <tr>\n",
       "      <th>1</th>\n",
       "      <td>816049</td>\n",
       "      <td>[(15394, 0.8466124534606934), (25973, 0.837813...</td>\n",
       "    </tr>\n",
       "    <tr>\n",
       "      <th>2</th>\n",
       "      <td>1242203</td>\n",
       "      <td>[(47442, 0.8647209405899048), (35834, 0.851600...</td>\n",
       "    </tr>\n",
       "    <tr>\n",
       "      <th>3</th>\n",
       "      <td>1383349</td>\n",
       "      <td>[(30391, 0.8909130096435547), (47209, 0.889265...</td>\n",
       "    </tr>\n",
       "    <tr>\n",
       "      <th>4</th>\n",
       "      <td>2445303</td>\n",
       "      <td>[(18484, 0.8790232539176941), (39323, 0.878275...</td>\n",
       "    </tr>\n",
       "    <tr>\n",
       "      <th>...</th>\n",
       "      <td>...</td>\n",
       "      <td>...</td>\n",
       "    </tr>\n",
       "    <tr>\n",
       "      <th>124339</th>\n",
       "      <td>3068396</td>\n",
       "      <td>[(26800, 0.8602944612503052), (19662, 0.853717...</td>\n",
       "    </tr>\n",
       "    <tr>\n",
       "      <th>124340</th>\n",
       "      <td>3071196</td>\n",
       "      <td>[(16688, 0.7734615206718445), (47671, 0.773102...</td>\n",
       "    </tr>\n",
       "    <tr>\n",
       "      <th>124341</th>\n",
       "      <td>3083500</td>\n",
       "      <td>[(3758, 0.8499077558517456), (2671, 0.84154421...</td>\n",
       "    </tr>\n",
       "    <tr>\n",
       "      <th>124342</th>\n",
       "      <td>3164223</td>\n",
       "      <td>[(14233, 0.8343762159347534), (49235, 0.773744...</td>\n",
       "    </tr>\n",
       "    <tr>\n",
       "      <th>124343</th>\n",
       "      <td>3265860</td>\n",
       "      <td>[(30450, 0.8238496780395508), (9745, 0.8214729...</td>\n",
       "    </tr>\n",
       "  </tbody>\n",
       "</table>\n",
       "<p>124344 rows × 2 columns</p>\n",
       "</div>"
      ],
      "text/plain": [
       "              0                                                  1\n",
       "0             1  [(47209, 0.8747882843017578), (5689, 0.8572853...\n",
       "1        816049  [(15394, 0.8466124534606934), (25973, 0.837813...\n",
       "2       1242203  [(47442, 0.8647209405899048), (35834, 0.851600...\n",
       "3       1383349  [(30391, 0.8909130096435547), (47209, 0.889265...\n",
       "4       2445303  [(18484, 0.8790232539176941), (39323, 0.878275...\n",
       "...         ...                                                ...\n",
       "124339  3068396  [(26800, 0.8602944612503052), (19662, 0.853717...\n",
       "124340  3071196  [(16688, 0.7734615206718445), (47671, 0.773102...\n",
       "124341  3083500  [(3758, 0.8499077558517456), (2671, 0.84154421...\n",
       "124342  3164223  [(14233, 0.8343762159347534), (49235, 0.773744...\n",
       "124343  3265860  [(30450, 0.8238496780395508), (9745, 0.8214729...\n",
       "\n",
       "[124344 rows x 2 columns]"
      ]
     },
     "execution_count": 74,
     "metadata": {},
     "output_type": "execute_result"
    }
   ],
   "source": [
    "#transpose the dataframe\n",
    "preds = preds.T\n",
    "preds"
   ]
  },
  {
   "cell_type": "code",
   "execution_count": 75,
   "metadata": {},
   "outputs": [
    {
     "data": {
      "text/html": [
       "<div>\n",
       "<style scoped>\n",
       "    .dataframe tbody tr th:only-of-type {\n",
       "        vertical-align: middle;\n",
       "    }\n",
       "\n",
       "    .dataframe tbody tr th {\n",
       "        vertical-align: top;\n",
       "    }\n",
       "\n",
       "    .dataframe thead th {\n",
       "        text-align: right;\n",
       "    }\n",
       "</style>\n",
       "<table border=\"1\" class=\"dataframe\">\n",
       "  <thead>\n",
       "    <tr style=\"text-align: right;\">\n",
       "      <th></th>\n",
       "      <th>order_id</th>\n",
       "      <th>predicted products</th>\n",
       "    </tr>\n",
       "  </thead>\n",
       "  <tbody>\n",
       "    <tr>\n",
       "      <th>0</th>\n",
       "      <td>1</td>\n",
       "      <td>[(47209, 0.8747882843017578), (5689, 0.8572853...</td>\n",
       "    </tr>\n",
       "    <tr>\n",
       "      <th>1</th>\n",
       "      <td>816049</td>\n",
       "      <td>[(15394, 0.8466124534606934), (25973, 0.837813...</td>\n",
       "    </tr>\n",
       "    <tr>\n",
       "      <th>2</th>\n",
       "      <td>1242203</td>\n",
       "      <td>[(47442, 0.8647209405899048), (35834, 0.851600...</td>\n",
       "    </tr>\n",
       "    <tr>\n",
       "      <th>3</th>\n",
       "      <td>1383349</td>\n",
       "      <td>[(30391, 0.8909130096435547), (47209, 0.889265...</td>\n",
       "    </tr>\n",
       "    <tr>\n",
       "      <th>4</th>\n",
       "      <td>2445303</td>\n",
       "      <td>[(18484, 0.8790232539176941), (39323, 0.878275...</td>\n",
       "    </tr>\n",
       "    <tr>\n",
       "      <th>...</th>\n",
       "      <td>...</td>\n",
       "      <td>...</td>\n",
       "    </tr>\n",
       "    <tr>\n",
       "      <th>124339</th>\n",
       "      <td>3068396</td>\n",
       "      <td>[(26800, 0.8602944612503052), (19662, 0.853717...</td>\n",
       "    </tr>\n",
       "    <tr>\n",
       "      <th>124340</th>\n",
       "      <td>3071196</td>\n",
       "      <td>[(16688, 0.7734615206718445), (47671, 0.773102...</td>\n",
       "    </tr>\n",
       "    <tr>\n",
       "      <th>124341</th>\n",
       "      <td>3083500</td>\n",
       "      <td>[(3758, 0.8499077558517456), (2671, 0.84154421...</td>\n",
       "    </tr>\n",
       "    <tr>\n",
       "      <th>124342</th>\n",
       "      <td>3164223</td>\n",
       "      <td>[(14233, 0.8343762159347534), (49235, 0.773744...</td>\n",
       "    </tr>\n",
       "    <tr>\n",
       "      <th>124343</th>\n",
       "      <td>3265860</td>\n",
       "      <td>[(30450, 0.8238496780395508), (9745, 0.8214729...</td>\n",
       "    </tr>\n",
       "  </tbody>\n",
       "</table>\n",
       "<p>124344 rows × 2 columns</p>\n",
       "</div>"
      ],
      "text/plain": [
       "       order_id                                 predicted products\n",
       "0             1  [(47209, 0.8747882843017578), (5689, 0.8572853...\n",
       "1        816049  [(15394, 0.8466124534606934), (25973, 0.837813...\n",
       "2       1242203  [(47442, 0.8647209405899048), (35834, 0.851600...\n",
       "3       1383349  [(30391, 0.8909130096435547), (47209, 0.889265...\n",
       "4       2445303  [(18484, 0.8790232539176941), (39323, 0.878275...\n",
       "...         ...                                                ...\n",
       "124339  3068396  [(26800, 0.8602944612503052), (19662, 0.853717...\n",
       "124340  3071196  [(16688, 0.7734615206718445), (47671, 0.773102...\n",
       "124341  3083500  [(3758, 0.8499077558517456), (2671, 0.84154421...\n",
       "124342  3164223  [(14233, 0.8343762159347534), (49235, 0.773744...\n",
       "124343  3265860  [(30450, 0.8238496780395508), (9745, 0.8214729...\n",
       "\n",
       "[124344 rows x 2 columns]"
      ]
     },
     "execution_count": 75,
     "metadata": {},
     "output_type": "execute_result"
    }
   ],
   "source": [
    "#rename columns\n",
    "preds2 = preds.rename(columns={0: 'order_id', 1: 'predicted products'})\n",
    "preds2"
   ]
  },
  {
   "cell_type": "code",
   "execution_count": 76,
   "metadata": {},
   "outputs": [],
   "source": [
    "#add in the test_orders_test dataframe (dataframe of last items added into the cart for each order)\n",
    "preds2 = pd.merge(preds2, test_orders_test, on='order_id')"
   ]
  },
  {
   "cell_type": "code",
   "execution_count": 77,
   "metadata": {},
   "outputs": [
    {
     "data": {
      "text/html": [
       "<div>\n",
       "<style scoped>\n",
       "    .dataframe tbody tr th:only-of-type {\n",
       "        vertical-align: middle;\n",
       "    }\n",
       "\n",
       "    .dataframe tbody tr th {\n",
       "        vertical-align: top;\n",
       "    }\n",
       "\n",
       "    .dataframe thead th {\n",
       "        text-align: right;\n",
       "    }\n",
       "</style>\n",
       "<table border=\"1\" class=\"dataframe\">\n",
       "  <thead>\n",
       "    <tr style=\"text-align: right;\">\n",
       "      <th></th>\n",
       "      <th>order_id</th>\n",
       "      <th>predicted products</th>\n",
       "      <th>product_id</th>\n",
       "      <th>add_to_cart_order</th>\n",
       "      <th>reordered</th>\n",
       "    </tr>\n",
       "  </thead>\n",
       "  <tbody>\n",
       "    <tr>\n",
       "      <th>0</th>\n",
       "      <td>1</td>\n",
       "      <td>[(47209, 0.8747882843017578), (5689, 0.8572853...</td>\n",
       "      <td>22035</td>\n",
       "      <td>8</td>\n",
       "      <td>1</td>\n",
       "    </tr>\n",
       "    <tr>\n",
       "      <th>1</th>\n",
       "      <td>816049</td>\n",
       "      <td>[(15394, 0.8466124534606934), (25973, 0.837813...</td>\n",
       "      <td>19446</td>\n",
       "      <td>16</td>\n",
       "      <td>0</td>\n",
       "    </tr>\n",
       "    <tr>\n",
       "      <th>2</th>\n",
       "      <td>1242203</td>\n",
       "      <td>[(47442, 0.8647209405899048), (35834, 0.851600...</td>\n",
       "      <td>3849</td>\n",
       "      <td>10</td>\n",
       "      <td>0</td>\n",
       "    </tr>\n",
       "    <tr>\n",
       "      <th>3</th>\n",
       "      <td>1383349</td>\n",
       "      <td>[(30391, 0.8909130096435547), (47209, 0.889265...</td>\n",
       "      <td>27344</td>\n",
       "      <td>23</td>\n",
       "      <td>1</td>\n",
       "    </tr>\n",
       "    <tr>\n",
       "      <th>4</th>\n",
       "      <td>2445303</td>\n",
       "      <td>[(18484, 0.8790232539176941), (39323, 0.878275...</td>\n",
       "      <td>27156</td>\n",
       "      <td>14</td>\n",
       "      <td>1</td>\n",
       "    </tr>\n",
       "    <tr>\n",
       "      <th>...</th>\n",
       "      <td>...</td>\n",
       "      <td>...</td>\n",
       "      <td>...</td>\n",
       "      <td>...</td>\n",
       "      <td>...</td>\n",
       "    </tr>\n",
       "    <tr>\n",
       "      <th>124339</th>\n",
       "      <td>3068396</td>\n",
       "      <td>[(26800, 0.8602944612503052), (19662, 0.853717...</td>\n",
       "      <td>38944</td>\n",
       "      <td>2</td>\n",
       "      <td>1</td>\n",
       "    </tr>\n",
       "    <tr>\n",
       "      <th>124340</th>\n",
       "      <td>3071196</td>\n",
       "      <td>[(16688, 0.7734615206718445), (47671, 0.773102...</td>\n",
       "      <td>5258</td>\n",
       "      <td>2</td>\n",
       "      <td>0</td>\n",
       "    </tr>\n",
       "    <tr>\n",
       "      <th>124341</th>\n",
       "      <td>3083500</td>\n",
       "      <td>[(3758, 0.8499077558517456), (2671, 0.84154421...</td>\n",
       "      <td>37774</td>\n",
       "      <td>2</td>\n",
       "      <td>0</td>\n",
       "    </tr>\n",
       "    <tr>\n",
       "      <th>124342</th>\n",
       "      <td>3164223</td>\n",
       "      <td>[(14233, 0.8343762159347534), (49235, 0.773744...</td>\n",
       "      <td>34355</td>\n",
       "      <td>2</td>\n",
       "      <td>1</td>\n",
       "    </tr>\n",
       "    <tr>\n",
       "      <th>124343</th>\n",
       "      <td>3265860</td>\n",
       "      <td>[(30450, 0.8238496780395508), (9745, 0.8214729...</td>\n",
       "      <td>34036</td>\n",
       "      <td>2</td>\n",
       "      <td>0</td>\n",
       "    </tr>\n",
       "  </tbody>\n",
       "</table>\n",
       "<p>124344 rows × 5 columns</p>\n",
       "</div>"
      ],
      "text/plain": [
       "       order_id                                 predicted products  \\\n",
       "0             1  [(47209, 0.8747882843017578), (5689, 0.8572853...   \n",
       "1        816049  [(15394, 0.8466124534606934), (25973, 0.837813...   \n",
       "2       1242203  [(47442, 0.8647209405899048), (35834, 0.851600...   \n",
       "3       1383349  [(30391, 0.8909130096435547), (47209, 0.889265...   \n",
       "4       2445303  [(18484, 0.8790232539176941), (39323, 0.878275...   \n",
       "...         ...                                                ...   \n",
       "124339  3068396  [(26800, 0.8602944612503052), (19662, 0.853717...   \n",
       "124340  3071196  [(16688, 0.7734615206718445), (47671, 0.773102...   \n",
       "124341  3083500  [(3758, 0.8499077558517456), (2671, 0.84154421...   \n",
       "124342  3164223  [(14233, 0.8343762159347534), (49235, 0.773744...   \n",
       "124343  3265860  [(30450, 0.8238496780395508), (9745, 0.8214729...   \n",
       "\n",
       "        product_id  add_to_cart_order  reordered  \n",
       "0            22035                  8          1  \n",
       "1            19446                 16          0  \n",
       "2             3849                 10          0  \n",
       "3            27344                 23          1  \n",
       "4            27156                 14          1  \n",
       "...            ...                ...        ...  \n",
       "124339       38944                  2          1  \n",
       "124340        5258                  2          0  \n",
       "124341       37774                  2          0  \n",
       "124342       34355                  2          1  \n",
       "124343       34036                  2          0  \n",
       "\n",
       "[124344 rows x 5 columns]"
      ]
     },
     "execution_count": 77,
     "metadata": {},
     "output_type": "execute_result"
    }
   ],
   "source": [
    "preds2"
   ]
  },
  {
   "cell_type": "code",
   "execution_count": 78,
   "metadata": {},
   "outputs": [],
   "source": [
    "#check if product_id for each order is one of the predicted items by using a loop\n",
    "\n",
    "results = []\n",
    "for row in range(len(preds2)):\n",
    "    for item in range(len(preds2[\"predicted products\"][row])):\n",
    "        x = preds2[\"product_id\"][row] in preds2[\"predicted products\"][row][item]\n",
    "        results.append(x)       "
   ]
  },
  {
   "cell_type": "code",
   "execution_count": 79,
   "metadata": {},
   "outputs": [
    {
     "data": {
      "text/plain": [
       "Counter({False: 1243439, True: 1})"
      ]
     },
     "execution_count": 79,
     "metadata": {},
     "output_type": "execute_result"
    }
   ],
   "source": [
    "from collections import Counter\n",
    "\n",
    "Counter(results)"
   ]
  },
  {
   "cell_type": "code",
   "execution_count": 92,
   "metadata": {},
   "outputs": [
    {
     "data": {
      "text/html": [
       "<div>\n",
       "<style scoped>\n",
       "    .dataframe tbody tr th:only-of-type {\n",
       "        vertical-align: middle;\n",
       "    }\n",
       "\n",
       "    .dataframe tbody tr th {\n",
       "        vertical-align: top;\n",
       "    }\n",
       "\n",
       "    .dataframe thead th {\n",
       "        text-align: right;\n",
       "    }\n",
       "</style>\n",
       "<table border=\"1\" class=\"dataframe\">\n",
       "  <thead>\n",
       "    <tr style=\"text-align: right;\">\n",
       "      <th></th>\n",
       "      <th>order_id</th>\n",
       "      <th>product_id</th>\n",
       "      <th>add_to_cart_order</th>\n",
       "      <th>reordered</th>\n",
       "    </tr>\n",
       "  </thead>\n",
       "  <tbody>\n",
       "    <tr>\n",
       "      <th>335052</th>\n",
       "      <td>816049</td>\n",
       "      <td>34969</td>\n",
       "      <td>1</td>\n",
       "      <td>1</td>\n",
       "    </tr>\n",
       "    <tr>\n",
       "      <th>335053</th>\n",
       "      <td>816049</td>\n",
       "      <td>20574</td>\n",
       "      <td>2</td>\n",
       "      <td>1</td>\n",
       "    </tr>\n",
       "    <tr>\n",
       "      <th>335054</th>\n",
       "      <td>816049</td>\n",
       "      <td>20118</td>\n",
       "      <td>3</td>\n",
       "      <td>1</td>\n",
       "    </tr>\n",
       "    <tr>\n",
       "      <th>335055</th>\n",
       "      <td>816049</td>\n",
       "      <td>41220</td>\n",
       "      <td>4</td>\n",
       "      <td>0</td>\n",
       "    </tr>\n",
       "    <tr>\n",
       "      <th>335056</th>\n",
       "      <td>816049</td>\n",
       "      <td>35176</td>\n",
       "      <td>5</td>\n",
       "      <td>1</td>\n",
       "    </tr>\n",
       "    <tr>\n",
       "      <th>335057</th>\n",
       "      <td>816049</td>\n",
       "      <td>14267</td>\n",
       "      <td>6</td>\n",
       "      <td>1</td>\n",
       "    </tr>\n",
       "    <tr>\n",
       "      <th>335058</th>\n",
       "      <td>816049</td>\n",
       "      <td>49302</td>\n",
       "      <td>7</td>\n",
       "      <td>1</td>\n",
       "    </tr>\n",
       "    <tr>\n",
       "      <th>335059</th>\n",
       "      <td>816049</td>\n",
       "      <td>44142</td>\n",
       "      <td>8</td>\n",
       "      <td>0</td>\n",
       "    </tr>\n",
       "    <tr>\n",
       "      <th>335060</th>\n",
       "      <td>816049</td>\n",
       "      <td>17948</td>\n",
       "      <td>9</td>\n",
       "      <td>1</td>\n",
       "    </tr>\n",
       "    <tr>\n",
       "      <th>335061</th>\n",
       "      <td>816049</td>\n",
       "      <td>38200</td>\n",
       "      <td>10</td>\n",
       "      <td>1</td>\n",
       "    </tr>\n",
       "    <tr>\n",
       "      <th>335062</th>\n",
       "      <td>816049</td>\n",
       "      <td>26604</td>\n",
       "      <td>11</td>\n",
       "      <td>0</td>\n",
       "    </tr>\n",
       "    <tr>\n",
       "      <th>335063</th>\n",
       "      <td>816049</td>\n",
       "      <td>36772</td>\n",
       "      <td>12</td>\n",
       "      <td>0</td>\n",
       "    </tr>\n",
       "    <tr>\n",
       "      <th>335064</th>\n",
       "      <td>816049</td>\n",
       "      <td>1158</td>\n",
       "      <td>13</td>\n",
       "      <td>0</td>\n",
       "    </tr>\n",
       "    <tr>\n",
       "      <th>335065</th>\n",
       "      <td>816049</td>\n",
       "      <td>22035</td>\n",
       "      <td>14</td>\n",
       "      <td>0</td>\n",
       "    </tr>\n",
       "    <tr>\n",
       "      <th>335066</th>\n",
       "      <td>816049</td>\n",
       "      <td>7503</td>\n",
       "      <td>15</td>\n",
       "      <td>0</td>\n",
       "    </tr>\n",
       "    <tr>\n",
       "      <th>335067</th>\n",
       "      <td>816049</td>\n",
       "      <td>19446</td>\n",
       "      <td>16</td>\n",
       "      <td>0</td>\n",
       "    </tr>\n",
       "  </tbody>\n",
       "</table>\n",
       "</div>"
      ],
      "text/plain": [
       "        order_id  product_id  add_to_cart_order  reordered\n",
       "335052    816049       34969                  1          1\n",
       "335053    816049       20574                  2          1\n",
       "335054    816049       20118                  3          1\n",
       "335055    816049       41220                  4          0\n",
       "335056    816049       35176                  5          1\n",
       "335057    816049       14267                  6          1\n",
       "335058    816049       49302                  7          1\n",
       "335059    816049       44142                  8          0\n",
       "335060    816049       17948                  9          1\n",
       "335061    816049       38200                 10          1\n",
       "335062    816049       26604                 11          0\n",
       "335063    816049       36772                 12          0\n",
       "335064    816049        1158                 13          0\n",
       "335065    816049       22035                 14          0\n",
       "335066    816049        7503                 15          0\n",
       "335067    816049       19446                 16          0"
      ]
     },
     "execution_count": 92,
     "metadata": {},
     "output_type": "execute_result"
    }
   ],
   "source": [
    "#look at the first several items in the basket, what was predicted, what was actually the last order of order_id 816049\n",
    "test_orders.loc[test_orders['order_id'] == 816049]"
   ]
  },
  {
   "cell_type": "code",
   "execution_count": 93,
   "metadata": {},
   "outputs": [
    {
     "name": "stdout",
     "output_type": "stream",
     "text": [
      "['Red Vine Tomato']\n",
      "['Roasted Turkey']\n",
      "['Krinkle Cut Sea Salt Potato Chips']\n",
      "['Organic Romaine Lettuce']\n",
      "['Cream Cheese Cream Cheese Spread']\n",
      "['Organic Refried Black Beans']\n",
      "['Bulgarian Yogurt']\n",
      "['Red Onion']\n",
      "['Frozen Organic Wild Blueberries']\n",
      "['Apple Juice']\n",
      "['Organic Blackberries']\n",
      "['Bunny Pasta with Yummy Cheese Macaroni & Cheese']\n",
      "['Mango Chunks']\n",
      "['Organic Whole String Cheese']\n",
      "['Whole Almonds']\n"
     ]
    }
   ],
   "source": [
    "#look up what the first 15 products were\n",
    "print(prior_dict[34969])\n",
    "print(prior_dict[20574])\n",
    "print(prior_dict[20118])\n",
    "print(prior_dict[41220])\n",
    "print(prior_dict[35176])\n",
    "print(prior_dict[14267])\n",
    "print(prior_dict[49302])\n",
    "print(prior_dict[44142])\n",
    "print(prior_dict[17948])\n",
    "print(prior_dict[38200])\n",
    "print(prior_dict[26604])\n",
    "print(prior_dict[36772])\n",
    "print(prior_dict[1158])\n",
    "print(prior_dict[22035])\n",
    "print(prior_dict[7503])"
   ]
  },
  {
   "cell_type": "code",
   "execution_count": 80,
   "metadata": {},
   "outputs": [
    {
     "data": {
      "text/plain": [
       "[('15394', 0.8466124534606934),\n",
       " ('25973', 0.8378134369850159),\n",
       " ('28960', 0.8361332416534424),\n",
       " ('45626', 0.831640362739563),\n",
       " ('31186', 0.8285546898841858),\n",
       " ('7791', 0.8279427886009216),\n",
       " ('9506', 0.8261063098907471),\n",
       " ('33551', 0.8249907493591309),\n",
       " ('9113', 0.8225807547569275),\n",
       " ('41507', 0.8139693140983582)]"
      ]
     },
     "execution_count": 80,
     "metadata": {},
     "output_type": "execute_result"
    }
   ],
   "source": [
    "#look at the predicted items\n",
    "preds2.iloc[1]['predicted products']"
   ]
  },
  {
   "cell_type": "code",
   "execution_count": 88,
   "metadata": {},
   "outputs": [
    {
     "name": "stdout",
     "output_type": "stream",
     "text": [
      "['Organic Dried Mini Cranberries']\n",
      "['Assortment Bittersweet Chocolate Box']\n",
      "['1000 Roses Color + Correct Sheer Nude SPF 30 for Sensitive Skin']\n",
      "['Red Bell Pepper Ancho Chili Jam']\n",
      "['2chic Tangerine & Papaya Butter Ultra Volume Big Body Hair Spray']\n",
      "['Organic 1% Milkfat Strawberry Lowfat Milk']\n",
      "['Chili & Lemon Goat Cheese & Olive Oil Infusion']\n",
      "['Lactase Enzyme']\n",
      "['Amazing Meal Raw, Plant-Based Nutritional Supplement Chocolate Infusion']\n",
      "['Organic Sprouted White Bread']\n"
     ]
    }
   ],
   "source": [
    "#predicted\n",
    "print(prior_dict[15394])\n",
    "print(prior_dict[25973])\n",
    "print(prior_dict[28960])\n",
    "print(prior_dict[45626])\n",
    "print(prior_dict[31186])\n",
    "print(prior_dict[7791])\n",
    "print(prior_dict[9506])\n",
    "print(prior_dict[33551])\n",
    "print(prior_dict[9113])\n",
    "print(prior_dict[41507])"
   ]
  },
  {
   "cell_type": "code",
   "execution_count": 86,
   "metadata": {},
   "outputs": [
    {
     "data": {
      "text/plain": [
       "19446"
      ]
     },
     "execution_count": 86,
     "metadata": {},
     "output_type": "execute_result"
    }
   ],
   "source": [
    "preds2.iloc[1]['product_id']"
   ]
  },
  {
   "cell_type": "code",
   "execution_count": 87,
   "metadata": {},
   "outputs": [
    {
     "name": "stdout",
     "output_type": "stream",
     "text": [
      "['Thick & Chunky Salsa']\n"
     ]
    }
   ],
   "source": [
    "#actual\n",
    "print(prior_dict[19446])"
   ]
  },
  {
   "cell_type": "markdown",
   "metadata": {},
   "source": [
    "While none of the predicted items matched the actual final item, there are some similarities between the predicted items and the first 15 items of order 816049. For example, the first predicted item was Organic Dried Mini Cranberries, and the first 15 items included blueberries and blackberries. There were also organic items predicted, which seems appropriate due to the presence of organic items in the first 15 products."
   ]
  },
  {
   "cell_type": "code",
   "execution_count": null,
   "metadata": {},
   "outputs": [],
   "source": []
  }
 ],
 "metadata": {
  "kernelspec": {
   "display_name": "Python 3",
   "language": "python",
   "name": "python3"
  },
  "language_info": {
   "codemirror_mode": {
    "name": "ipython",
    "version": 3
   },
   "file_extension": ".py",
   "mimetype": "text/x-python",
   "name": "python",
   "nbconvert_exporter": "python",
   "pygments_lexer": "ipython3",
   "version": "3.7.4"
  }
 },
 "nbformat": 4,
 "nbformat_minor": 4
}
